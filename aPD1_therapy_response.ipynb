{
 "cells": [
  {
   "cell_type": "code",
   "execution_count": 249,
   "metadata": {},
   "outputs": [],
   "source": [
    "import pandas as pd\n",
    "import numpy as np\n",
    "from datetime import datetime\n",
    "\n",
    "from scikit_posthocs import posthoc_mannwhitney\n",
    "from sklearn.decomposition import PCA\n",
    "from scipy.stats import mannwhitneyu\n",
    "from statsmodels.stats.multitest import fdrcorrection, multipletests\n",
    "from scipy import stats\n",
    "from mlxtend.evaluate import permutation_test\n",
    "import seaborn as sns\n",
    "\n",
    "from imblearn.over_sampling import SMOTE\n",
    "from imblearn.pipeline import Pipeline\n",
    "from sklearn.model_selection import StratifiedKFold, LeaveOneOut\n",
    "from sklearn.preprocessing import StandardScaler, MinMaxScaler\n",
    "from sklearn.tree import DecisionTreeClassifier\n",
    "from sklearn.ensemble import RandomForestClassifier\n",
    "from sklearn.svm import SVC\n",
    "from sklearn.ensemble import AdaBoostClassifier\n",
    "from sklearn.neighbors import KNeighborsClassifier\n",
    "from sklearn.naive_bayes import GaussianNB\n",
    "import xgboost as xgb\n",
    "from sklearn.model_selection import GridSearchCV\n",
    "from sklearn.metrics import roc_auc_score, f1_score, precision_score, recall_score, accuracy_score\n",
    "from sklearn.base import clone\n",
    "import matplotlib.pyplot as plt\n",
    "from copy import deepcopy\n",
    "from sklearn.linear_model import LogisticRegression, LassoLars"
   ]
  },
  {
   "cell_type": "markdown",
   "metadata": {},
   "source": [
    "# 1. Описание исходных данных и предобработка\n",
    "\n",
    "Для анализа использовались результаты двух исследований иммунной терапии aPD1 на данных анализа образцов опухолей пациентов: DOI: 10.1016/j.cell.2016.02.065 (данные - GSE78220), 10.1016/j.celrep.2017.04.031 (данные - GSE96619).\n",
    "\n",
    "В первой работе было исследовано 28 образцов, во второй - 10 образцов (5 пациентов).\n",
    "\n",
    "В исследованиях был проведен эксперимент RNA-seq на образцах биопсии меланомы перед anti-PD-1 терапией (во втором исследовании также был проведен второй эксперимент RNA-seq во время терапии). \n",
    "\n",
    "В исследованиях уже была проведена обработка исходных данных RNA-seq, результат обработки представляет из себя таблицу с FPKM значениями экспрессии генов.\n",
    "\n",
    "В первом эксперименте доступны данные по экспрессии генов 28 пациентов, 27 из которых были взяты перед терапией (в дальнейшем мы не будем использовать данные по пациенту, образцы которого были взяты во время терапии для построения модели).\n",
    "\n",
    "Во втором эксперименте доступны данные по 5 пациентам, для всех них есть данные перед терапией.\n",
    "\n",
    "Посмотрим на данные по экспрессии генов из обоих исследований. \n",
    "\n",
    "Данные из первого исследования:"
   ]
  },
  {
   "cell_type": "code",
   "execution_count": 2,
   "metadata": {},
   "outputs": [
    {
     "name": "stderr",
     "output_type": "stream",
     "text": [
      "/Users/nikitakonstantinovskiy/opt/anaconda3/envs/aPD1_therapy_response/lib/python3.9/site-packages/openpyxl/worksheet/_reader.py:312: UserWarning: Unknown extension is not supported and will be removed\n",
      "  warn(msg)\n"
     ]
    }
   ],
   "source": [
    "gene_expression_r1 = pd.read_excel('data/r1/GSE78220_PatientFPKM.xlsx', index_col=0)"
   ]
  },
  {
   "cell_type": "code",
   "execution_count": 3,
   "metadata": {},
   "outputs": [
    {
     "data": {
      "text/html": [
       "<div>\n",
       "<style scoped>\n",
       "    .dataframe tbody tr th:only-of-type {\n",
       "        vertical-align: middle;\n",
       "    }\n",
       "\n",
       "    .dataframe tbody tr th {\n",
       "        vertical-align: top;\n",
       "    }\n",
       "\n",
       "    .dataframe thead th {\n",
       "        text-align: right;\n",
       "    }\n",
       "</style>\n",
       "<table border=\"1\" class=\"dataframe\">\n",
       "  <thead>\n",
       "    <tr style=\"text-align: right;\">\n",
       "      <th></th>\n",
       "      <th>Pt1.baseline</th>\n",
       "      <th>Pt2.baseline</th>\n",
       "      <th>Pt4.baseline</th>\n",
       "      <th>Pt5.baseline</th>\n",
       "      <th>Pt6.baseline</th>\n",
       "      <th>Pt7.baseline</th>\n",
       "      <th>Pt8.baseline</th>\n",
       "      <th>Pt9.baseline</th>\n",
       "      <th>Pt10.baseline</th>\n",
       "      <th>Pt12.baseline</th>\n",
       "      <th>...</th>\n",
       "      <th>Pt25.baseline</th>\n",
       "      <th>Pt27A.baseline</th>\n",
       "      <th>Pt27B.baseline</th>\n",
       "      <th>Pt28.baseline</th>\n",
       "      <th>Pt29.baseline</th>\n",
       "      <th>Pt31.baseline</th>\n",
       "      <th>Pt32.baseline</th>\n",
       "      <th>Pt35.baseline</th>\n",
       "      <th>Pt37.baseline</th>\n",
       "      <th>Pt38.baseline</th>\n",
       "    </tr>\n",
       "    <tr>\n",
       "      <th>Gene</th>\n",
       "      <th></th>\n",
       "      <th></th>\n",
       "      <th></th>\n",
       "      <th></th>\n",
       "      <th></th>\n",
       "      <th></th>\n",
       "      <th></th>\n",
       "      <th></th>\n",
       "      <th></th>\n",
       "      <th></th>\n",
       "      <th></th>\n",
       "      <th></th>\n",
       "      <th></th>\n",
       "      <th></th>\n",
       "      <th></th>\n",
       "      <th></th>\n",
       "      <th></th>\n",
       "      <th></th>\n",
       "      <th></th>\n",
       "      <th></th>\n",
       "      <th></th>\n",
       "    </tr>\n",
       "  </thead>\n",
       "  <tbody>\n",
       "    <tr>\n",
       "      <th>A1BG</th>\n",
       "      <td>8.025380</td>\n",
       "      <td>317.594000</td>\n",
       "      <td>5.747295</td>\n",
       "      <td>6.859570</td>\n",
       "      <td>1.563465</td>\n",
       "      <td>21.565850</td>\n",
       "      <td>11.370550</td>\n",
       "      <td>8.156810</td>\n",
       "      <td>4.346750</td>\n",
       "      <td>6.508715</td>\n",
       "      <td>...</td>\n",
       "      <td>40.408950</td>\n",
       "      <td>6.093810</td>\n",
       "      <td>7.191755</td>\n",
       "      <td>8.595985</td>\n",
       "      <td>5.460340</td>\n",
       "      <td>14.788600</td>\n",
       "      <td>17.377200</td>\n",
       "      <td>11.644200</td>\n",
       "      <td>15.000300</td>\n",
       "      <td>4.475170</td>\n",
       "    </tr>\n",
       "    <tr>\n",
       "      <th>A1BG-AS1</th>\n",
       "      <td>0.677503</td>\n",
       "      <td>28.378200</td>\n",
       "      <td>0.471394</td>\n",
       "      <td>0.347623</td>\n",
       "      <td>0.201760</td>\n",
       "      <td>8.926245</td>\n",
       "      <td>3.853125</td>\n",
       "      <td>2.539610</td>\n",
       "      <td>1.914350</td>\n",
       "      <td>4.797930</td>\n",
       "      <td>...</td>\n",
       "      <td>0.441924</td>\n",
       "      <td>0.265769</td>\n",
       "      <td>0.513015</td>\n",
       "      <td>1.314753</td>\n",
       "      <td>3.155180</td>\n",
       "      <td>0.254531</td>\n",
       "      <td>0.673230</td>\n",
       "      <td>0.718414</td>\n",
       "      <td>0.388571</td>\n",
       "      <td>0.253978</td>\n",
       "    </tr>\n",
       "    <tr>\n",
       "      <th>A1CF</th>\n",
       "      <td>0.000000</td>\n",
       "      <td>18.109400</td>\n",
       "      <td>0.000000</td>\n",
       "      <td>0.000000</td>\n",
       "      <td>0.011276</td>\n",
       "      <td>0.000000</td>\n",
       "      <td>0.003263</td>\n",
       "      <td>0.001398</td>\n",
       "      <td>0.000000</td>\n",
       "      <td>0.000000</td>\n",
       "      <td>...</td>\n",
       "      <td>0.000000</td>\n",
       "      <td>0.000000</td>\n",
       "      <td>0.001768</td>\n",
       "      <td>0.188226</td>\n",
       "      <td>0.009519</td>\n",
       "      <td>0.000000</td>\n",
       "      <td>0.000000</td>\n",
       "      <td>0.000000</td>\n",
       "      <td>0.000000</td>\n",
       "      <td>0.000000</td>\n",
       "    </tr>\n",
       "    <tr>\n",
       "      <th>A2M</th>\n",
       "      <td>185.304000</td>\n",
       "      <td>455.160000</td>\n",
       "      <td>81.008200</td>\n",
       "      <td>41.410650</td>\n",
       "      <td>136.163500</td>\n",
       "      <td>44.669350</td>\n",
       "      <td>119.017500</td>\n",
       "      <td>232.675000</td>\n",
       "      <td>501.697000</td>\n",
       "      <td>530.237500</td>\n",
       "      <td>...</td>\n",
       "      <td>300.813000</td>\n",
       "      <td>390.299500</td>\n",
       "      <td>364.513500</td>\n",
       "      <td>67.114500</td>\n",
       "      <td>557.991500</td>\n",
       "      <td>50.436000</td>\n",
       "      <td>121.544000</td>\n",
       "      <td>55.713900</td>\n",
       "      <td>39.667300</td>\n",
       "      <td>495.157000</td>\n",
       "    </tr>\n",
       "    <tr>\n",
       "      <th>A2M-AS1</th>\n",
       "      <td>0.363531</td>\n",
       "      <td>2.864455</td>\n",
       "      <td>0.201285</td>\n",
       "      <td>0.040821</td>\n",
       "      <td>0.417423</td>\n",
       "      <td>1.039475</td>\n",
       "      <td>3.126025</td>\n",
       "      <td>4.216800</td>\n",
       "      <td>1.489845</td>\n",
       "      <td>1.868520</td>\n",
       "      <td>...</td>\n",
       "      <td>2.511090</td>\n",
       "      <td>0.397716</td>\n",
       "      <td>0.284776</td>\n",
       "      <td>0.627700</td>\n",
       "      <td>1.295220</td>\n",
       "      <td>0.129179</td>\n",
       "      <td>0.824253</td>\n",
       "      <td>0.172745</td>\n",
       "      <td>1.587210</td>\n",
       "      <td>1.049580</td>\n",
       "    </tr>\n",
       "  </tbody>\n",
       "</table>\n",
       "<p>5 rows × 28 columns</p>\n",
       "</div>"
      ],
      "text/plain": [
       "          Pt1.baseline  Pt2.baseline  Pt4.baseline  Pt5.baseline  \\\n",
       "Gene                                                               \n",
       "A1BG          8.025380    317.594000      5.747295      6.859570   \n",
       "A1BG-AS1      0.677503     28.378200      0.471394      0.347623   \n",
       "A1CF          0.000000     18.109400      0.000000      0.000000   \n",
       "A2M         185.304000    455.160000     81.008200     41.410650   \n",
       "A2M-AS1       0.363531      2.864455      0.201285      0.040821   \n",
       "\n",
       "          Pt6.baseline  Pt7.baseline  Pt8.baseline  Pt9.baseline  \\\n",
       "Gene                                                               \n",
       "A1BG          1.563465     21.565850     11.370550      8.156810   \n",
       "A1BG-AS1      0.201760      8.926245      3.853125      2.539610   \n",
       "A1CF          0.011276      0.000000      0.003263      0.001398   \n",
       "A2M         136.163500     44.669350    119.017500    232.675000   \n",
       "A2M-AS1       0.417423      1.039475      3.126025      4.216800   \n",
       "\n",
       "          Pt10.baseline  Pt12.baseline  ...  Pt25.baseline  Pt27A.baseline  \\\n",
       "Gene                                    ...                                  \n",
       "A1BG           4.346750       6.508715  ...      40.408950        6.093810   \n",
       "A1BG-AS1       1.914350       4.797930  ...       0.441924        0.265769   \n",
       "A1CF           0.000000       0.000000  ...       0.000000        0.000000   \n",
       "A2M          501.697000     530.237500  ...     300.813000      390.299500   \n",
       "A2M-AS1        1.489845       1.868520  ...       2.511090        0.397716   \n",
       "\n",
       "          Pt27B.baseline  Pt28.baseline  Pt29.baseline  Pt31.baseline  \\\n",
       "Gene                                                                    \n",
       "A1BG            7.191755       8.595985       5.460340      14.788600   \n",
       "A1BG-AS1        0.513015       1.314753       3.155180       0.254531   \n",
       "A1CF            0.001768       0.188226       0.009519       0.000000   \n",
       "A2M           364.513500      67.114500     557.991500      50.436000   \n",
       "A2M-AS1         0.284776       0.627700       1.295220       0.129179   \n",
       "\n",
       "          Pt32.baseline  Pt35.baseline  Pt37.baseline  Pt38.baseline  \n",
       "Gene                                                                  \n",
       "A1BG          17.377200      11.644200      15.000300       4.475170  \n",
       "A1BG-AS1       0.673230       0.718414       0.388571       0.253978  \n",
       "A1CF           0.000000       0.000000       0.000000       0.000000  \n",
       "A2M          121.544000      55.713900      39.667300     495.157000  \n",
       "A2M-AS1        0.824253       0.172745       1.587210       1.049580  \n",
       "\n",
       "[5 rows x 28 columns]"
      ]
     },
     "execution_count": 3,
     "metadata": {},
     "output_type": "execute_result"
    }
   ],
   "source": [
    "gene_expression_r1.head()"
   ]
  },
  {
   "cell_type": "code",
   "execution_count": 4,
   "metadata": {},
   "outputs": [
    {
     "data": {
      "text/plain": [
       "(25268, 28)"
      ]
     },
     "execution_count": 4,
     "metadata": {},
     "output_type": "execute_result"
    }
   ],
   "source": [
    "gene_expression_r1.shape"
   ]
  },
  {
   "cell_type": "code",
   "execution_count": 5,
   "metadata": {},
   "outputs": [
    {
     "name": "stdout",
     "output_type": "stream",
     "text": [
      "<class 'pandas.core.frame.DataFrame'>\n",
      "Index: 25268 entries, A1BG to ZZZ3\n",
      "Data columns (total 28 columns):\n",
      " #   Column          Non-Null Count  Dtype  \n",
      "---  ------          --------------  -----  \n",
      " 0   Pt1.baseline    25268 non-null  float64\n",
      " 1   Pt2.baseline    25268 non-null  float64\n",
      " 2   Pt4.baseline    25268 non-null  float64\n",
      " 3   Pt5.baseline    25268 non-null  float64\n",
      " 4   Pt6.baseline    25268 non-null  float64\n",
      " 5   Pt7.baseline    25268 non-null  float64\n",
      " 6   Pt8.baseline    25268 non-null  float64\n",
      " 7   Pt9.baseline    25268 non-null  float64\n",
      " 8   Pt10.baseline   25268 non-null  float64\n",
      " 9   Pt12.baseline   25268 non-null  float64\n",
      " 10  Pt13.baseline   25268 non-null  float64\n",
      " 11  Pt14.baseline   25268 non-null  float64\n",
      " 12  Pt15.baseline   25268 non-null  float64\n",
      " 13  Pt16.OnTx       25268 non-null  float64\n",
      " 14  Pt19.baseline   25268 non-null  float64\n",
      " 15  Pt20.baseline   25268 non-null  float64\n",
      " 16  Pt22.baseline   25268 non-null  float64\n",
      " 17  Pt23.baseline   25268 non-null  float64\n",
      " 18  Pt25.baseline   25268 non-null  float64\n",
      " 19  Pt27A.baseline  25268 non-null  float64\n",
      " 20  Pt27B.baseline  25268 non-null  float64\n",
      " 21  Pt28.baseline   25268 non-null  float64\n",
      " 22  Pt29.baseline   25268 non-null  float64\n",
      " 23  Pt31.baseline   25268 non-null  float64\n",
      " 24  Pt32.baseline   25268 non-null  float64\n",
      " 25  Pt35.baseline   25268 non-null  float64\n",
      " 26  Pt37.baseline   25268 non-null  float64\n",
      " 27  Pt38.baseline   25268 non-null  float64\n",
      "dtypes: float64(28)\n",
      "memory usage: 5.6+ MB\n"
     ]
    }
   ],
   "source": [
    "gene_expression_r1.info()"
   ]
  },
  {
   "cell_type": "code",
   "execution_count": 6,
   "metadata": {},
   "outputs": [
    {
     "name": "stderr",
     "output_type": "stream",
     "text": [
      "/Users/nikitakonstantinovskiy/opt/anaconda3/envs/aPD1_therapy_response/lib/python3.9/site-packages/openpyxl/worksheet/_reader.py:312: UserWarning: Unknown extension is not supported and will be removed\n",
      "  warn(msg)\n"
     ]
    }
   ],
   "source": [
    "gene_expression_r2 = pd.read_excel('data/r2/GSE96619_PatientFPKM.xlsx', index_col=0)"
   ]
  },
  {
   "cell_type": "code",
   "execution_count": 7,
   "metadata": {},
   "outputs": [
    {
     "data": {
      "text/html": [
       "<div>\n",
       "<style scoped>\n",
       "    .dataframe tbody tr th:only-of-type {\n",
       "        vertical-align: middle;\n",
       "    }\n",
       "\n",
       "    .dataframe tbody tr th {\n",
       "        vertical-align: top;\n",
       "    }\n",
       "\n",
       "    .dataframe thead th {\n",
       "        text-align: right;\n",
       "    }\n",
       "</style>\n",
       "<table border=\"1\" class=\"dataframe\">\n",
       "  <thead>\n",
       "    <tr style=\"text-align: right;\">\n",
       "      <th></th>\n",
       "      <th>Pt1-OnTx</th>\n",
       "      <th>Pt1-baseline</th>\n",
       "      <th>Pt2-OnTx</th>\n",
       "      <th>Pt2-baseline</th>\n",
       "      <th>Pt3-OnTx</th>\n",
       "      <th>Pt3-baseline</th>\n",
       "      <th>Pt4-OnTx</th>\n",
       "      <th>Pt4-baseline</th>\n",
       "      <th>Pt5-OnTx</th>\n",
       "      <th>Pt5-baseline</th>\n",
       "    </tr>\n",
       "    <tr>\n",
       "      <th>Gene</th>\n",
       "      <th></th>\n",
       "      <th></th>\n",
       "      <th></th>\n",
       "      <th></th>\n",
       "      <th></th>\n",
       "      <th></th>\n",
       "      <th></th>\n",
       "      <th></th>\n",
       "      <th></th>\n",
       "      <th></th>\n",
       "    </tr>\n",
       "  </thead>\n",
       "  <tbody>\n",
       "    <tr>\n",
       "      <th>A1BG</th>\n",
       "      <td>8.411245</td>\n",
       "      <td>6.887730</td>\n",
       "      <td>12.144350</td>\n",
       "      <td>32.177600</td>\n",
       "      <td>5.835355</td>\n",
       "      <td>4.306105</td>\n",
       "      <td>6.530260</td>\n",
       "      <td>6.420020</td>\n",
       "      <td>8.307430</td>\n",
       "      <td>12.274900</td>\n",
       "    </tr>\n",
       "    <tr>\n",
       "      <th>A1BG-AS1</th>\n",
       "      <td>1.373575</td>\n",
       "      <td>0.349027</td>\n",
       "      <td>0.977777</td>\n",
       "      <td>0.754818</td>\n",
       "      <td>1.458905</td>\n",
       "      <td>1.896455</td>\n",
       "      <td>4.813830</td>\n",
       "      <td>0.873906</td>\n",
       "      <td>0.397611</td>\n",
       "      <td>0.841965</td>\n",
       "    </tr>\n",
       "    <tr>\n",
       "      <th>A1CF</th>\n",
       "      <td>0.001914</td>\n",
       "      <td>0.000000</td>\n",
       "      <td>0.002021</td>\n",
       "      <td>0.001738</td>\n",
       "      <td>0.001414</td>\n",
       "      <td>0.000000</td>\n",
       "      <td>0.000000</td>\n",
       "      <td>0.002402</td>\n",
       "      <td>0.000000</td>\n",
       "      <td>0.001578</td>\n",
       "    </tr>\n",
       "    <tr>\n",
       "      <th>A2M</th>\n",
       "      <td>106.640500</td>\n",
       "      <td>41.582300</td>\n",
       "      <td>306.499500</td>\n",
       "      <td>189.732500</td>\n",
       "      <td>499.497000</td>\n",
       "      <td>497.008000</td>\n",
       "      <td>531.984000</td>\n",
       "      <td>407.300500</td>\n",
       "      <td>409.396500</td>\n",
       "      <td>240.788500</td>\n",
       "    </tr>\n",
       "    <tr>\n",
       "      <th>A2M-AS1</th>\n",
       "      <td>0.057771</td>\n",
       "      <td>0.040971</td>\n",
       "      <td>1.981470</td>\n",
       "      <td>1.831725</td>\n",
       "      <td>1.936515</td>\n",
       "      <td>1.475915</td>\n",
       "      <td>1.874585</td>\n",
       "      <td>1.262840</td>\n",
       "      <td>1.439495</td>\n",
       "      <td>1.133830</td>\n",
       "    </tr>\n",
       "  </tbody>\n",
       "</table>\n",
       "</div>"
      ],
      "text/plain": [
       "            Pt1-OnTx  Pt1-baseline    Pt2-OnTx  Pt2-baseline    Pt3-OnTx  \\\n",
       "Gene                                                                       \n",
       "A1BG        8.411245      6.887730   12.144350     32.177600    5.835355   \n",
       "A1BG-AS1    1.373575      0.349027    0.977777      0.754818    1.458905   \n",
       "A1CF        0.001914      0.000000    0.002021      0.001738    0.001414   \n",
       "A2M       106.640500     41.582300  306.499500    189.732500  499.497000   \n",
       "A2M-AS1     0.057771      0.040971    1.981470      1.831725    1.936515   \n",
       "\n",
       "          Pt3-baseline    Pt4-OnTx  Pt4-baseline    Pt5-OnTx  Pt5-baseline  \n",
       "Gene                                                                        \n",
       "A1BG          4.306105    6.530260      6.420020    8.307430     12.274900  \n",
       "A1BG-AS1      1.896455    4.813830      0.873906    0.397611      0.841965  \n",
       "A1CF          0.000000    0.000000      0.002402    0.000000      0.001578  \n",
       "A2M         497.008000  531.984000    407.300500  409.396500    240.788500  \n",
       "A2M-AS1       1.475915    1.874585      1.262840    1.439495      1.133830  "
      ]
     },
     "execution_count": 7,
     "metadata": {},
     "output_type": "execute_result"
    }
   ],
   "source": [
    "gene_expression_r2.head()"
   ]
  },
  {
   "cell_type": "code",
   "execution_count": 8,
   "metadata": {},
   "outputs": [
    {
     "data": {
      "text/plain": [
       "(25268, 10)"
      ]
     },
     "execution_count": 8,
     "metadata": {},
     "output_type": "execute_result"
    }
   ],
   "source": [
    "gene_expression_r2.shape"
   ]
  },
  {
   "cell_type": "code",
   "execution_count": 9,
   "metadata": {},
   "outputs": [
    {
     "name": "stdout",
     "output_type": "stream",
     "text": [
      "<class 'pandas.core.frame.DataFrame'>\n",
      "Index: 25268 entries, A1BG to ZZZ3\n",
      "Data columns (total 10 columns):\n",
      " #   Column        Non-Null Count  Dtype  \n",
      "---  ------        --------------  -----  \n",
      " 0   Pt1-OnTx      25268 non-null  float64\n",
      " 1   Pt1-baseline  25268 non-null  float64\n",
      " 2   Pt2-OnTx      25268 non-null  float64\n",
      " 3   Pt2-baseline  25268 non-null  float64\n",
      " 4   Pt3-OnTx      25268 non-null  float64\n",
      " 5   Pt3-baseline  25268 non-null  float64\n",
      " 6   Pt4-OnTx      25268 non-null  float64\n",
      " 7   Pt4-baseline  25268 non-null  float64\n",
      " 8   Pt5-OnTx      25268 non-null  float64\n",
      " 9   Pt5-baseline  25268 non-null  float64\n",
      "dtypes: float64(10)\n",
      "memory usage: 2.1+ MB\n"
     ]
    }
   ],
   "source": [
    "gene_expression_r2.info()"
   ]
  },
  {
   "cell_type": "markdown",
   "metadata": {},
   "source": [
    "Видно, что NaN значений в данных нет.\n",
    "\n",
    "Также в первом датасете есть один пациент, данные по которому были получены уже во время применения терапии (это понятно из статьи, а также по названию колонки, его мы исключим из датасета). \n",
    "\n",
    "Помимо этого для первого датасета досупны данные по мутациям для каждого пациента. Мы могли бы использовать эти данные для увеличения точности модели, однако, таких данных недоступно для второго датасета, на котором будет проводиться тестирование точности модели, поэтому мы не сможем использовать их для обучения модели. \n",
    "\n",
    "Далее проведем первый этап предобработки данных, исключим данные, которые были собраны во время терапии, проверим что порядок генов в обоих датасетах соответствует и проведем транпонирование датасетов (сделаем так, чтобы пациенты были строками – наблюдениями, а гены столбцами – фичами) и добавим аннотацию по ответу на терапию у пациентов. Для первого датасета мы используем данные доступные из supplementary materials для аннотации, для второго получим аннотирование вручную из текста статьи."
   ]
  },
  {
   "cell_type": "code",
   "execution_count": 10,
   "metadata": {},
   "outputs": [],
   "source": [
    "# исключаем данные собранные во время терапии\n",
    "train = gene_expression_r1[gene_expression_r1.columns.drop(list(gene_expression_r1.filter(regex='.*OnTx$')))]\n",
    "test = gene_expression_r2[gene_expression_r2.columns.drop(list(gene_expression_r2.filter(regex='.*OnTx$')))]"
   ]
  },
  {
   "cell_type": "code",
   "execution_count": 11,
   "metadata": {},
   "outputs": [
    {
     "data": {
      "text/plain": [
       "False"
      ]
     },
     "execution_count": 11,
     "metadata": {},
     "output_type": "execute_result"
    }
   ],
   "source": [
    "# проверяем, совпадают ли названия генов в тренировочном и тестовом датасете\n",
    "is_equal = train.index == test.index\n",
    "np.all(is_equal)"
   ]
  },
  {
   "cell_type": "markdown",
   "metadata": {},
   "source": [
    "Не совпадают, посмотрим где"
   ]
  },
  {
   "cell_type": "code",
   "execution_count": 12,
   "metadata": {},
   "outputs": [
    {
     "data": {
      "text/plain": [
       "Index(['ANO10', 'ANO1-AS2', 'ARHGEF33', 'ARHGEF34P', 'ARHGEF35', 'ARHGEF37',\n",
       "       'ARHGEF38', 'ARHGEF38-IT1', 'ARHGEF39', 'ARHGEF3-AS1',\n",
       "       ...\n",
       "       'ZNF320', 'ZNF321P', 'ZNF322', 'ZNF324', 'ZNF324B', 'ZNF326', 'ZNF329',\n",
       "       'ZNF32-AS1', 'ZNF32-AS2', 'ZNF32-AS3'],\n",
       "      dtype='object', name='Gene', length=1222)"
      ]
     },
     "execution_count": 12,
     "metadata": {},
     "output_type": "execute_result"
    }
   ],
   "source": [
    "train.index[np.where(np.invert(is_equal))[0]]"
   ]
  },
  {
   "cell_type": "code",
   "execution_count": 13,
   "metadata": {},
   "outputs": [
    {
     "data": {
      "text/plain": [
       "Index([    'ANO1-AS2',        'ANO10',  'ARHGEF3-AS1',     'ARHGEF33',\n",
       "          'ARHGEF34P',     'ARHGEF35',     'ARHGEF37',     'ARHGEF38',\n",
       "       'ARHGEF38-IT1',     'ARHGEF39',\n",
       "       ...\n",
       "          'ZNF32-AS1',    'ZNF32-AS2',    'ZNF32-AS3',       'ZNF320',\n",
       "            'ZNF321P',       'ZNF322',       'ZNF324',      'ZNF324B',\n",
       "             'ZNF326',       'ZNF329'],\n",
       "      dtype='object', name='Gene', length=1222)"
      ]
     },
     "execution_count": 13,
     "metadata": {},
     "output_type": "execute_result"
    }
   ],
   "source": [
    "test.index[np.where(np.invert(is_equal))[0]]"
   ]
  },
  {
   "cell_type": "markdown",
   "metadata": {},
   "source": [
    "Сначала было предположение, что дело в сортировке названия генов, однако после просмотра файлов стало понятно что дело в том как был сохранен второй файл, имена некоторых генов совпадают с названиями дат и эксель автоматически конвертирует их в тип datetime. Это известная проблема, найдем все такие гены и переименуем в строки."
   ]
  },
  {
   "cell_type": "code",
   "execution_count": 14,
   "metadata": {},
   "outputs": [
    {
     "data": {
      "text/plain": [
       "Index([2017-12-01 00:00:00, 2017-03-01 00:00:00, 2017-03-02 00:00:00,\n",
       "       2017-03-01 00:00:00, 2017-03-10 00:00:00, 2017-03-11 00:00:00,\n",
       "       2017-03-02 00:00:00, 2017-03-03 00:00:00, 2017-03-04 00:00:00,\n",
       "       2017-03-05 00:00:00, 2017-03-06 00:00:00, 2017-03-07 00:00:00,\n",
       "       2017-03-08 00:00:00, 2017-03-09 00:00:00, 2017-09-15 00:00:00,\n",
       "       2017-09-01 00:00:00, 2017-09-10 00:00:00, 2017-09-11 00:00:00,\n",
       "       2017-09-12 00:00:00, 2017-09-14 00:00:00, 2017-09-02 00:00:00,\n",
       "       2017-09-03 00:00:00, 2017-09-04 00:00:00, 2017-09-05 00:00:00,\n",
       "       2017-09-06 00:00:00, 2017-09-07 00:00:00, 2017-09-08 00:00:00,\n",
       "       2017-09-09 00:00:00],\n",
       "      dtype='object', name='Gene')"
      ]
     },
     "execution_count": 14,
     "metadata": {},
     "output_type": "execute_result"
    }
   ],
   "source": [
    "# посмотрим какие значения индекса имеют тип datetime в тестовом датасете\n",
    "idx_dt_test = np.where(test.index.map(lambda x: isinstance(x, datetime)))[0]\n",
    "test.index[idx_dt_test]"
   ]
  },
  {
   "cell_type": "code",
   "execution_count": 15,
   "metadata": {},
   "outputs": [
    {
     "data": {
      "text/plain": [
       "Index([], dtype='object', name='Gene')"
      ]
     },
     "execution_count": 15,
     "metadata": {},
     "output_type": "execute_result"
    }
   ],
   "source": [
    "# тоже самое для тренировочного\n",
    "idx_dt_train = np.where(train.index.map(lambda x: isinstance(x, datetime)))[0]\n",
    "train.index[idx_dt_train]"
   ]
  },
  {
   "cell_type": "markdown",
   "metadata": {},
   "source": [
    "В тренировочном датасете таких значений нет, в тестовом заменим их. Для правильных названий посмотрим что в тех же позициях у тренировочного датасета."
   ]
  },
  {
   "cell_type": "code",
   "execution_count": 16,
   "metadata": {},
   "outputs": [
    {
     "data": {
      "text/plain": [
       "Index(['DEC1', 'MARC1', 'MARC2', 'MARCH1', 'MARCH10', 'MARCH11', 'MARCH2',\n",
       "       'MARCH3', 'MARCH4', 'MARCH5', 'MARCH6', 'MARCH7', 'MARCH8', 'MARCH9',\n",
       "       'SEP15', 'SEPT1', 'SEPT10', 'SEPT11', 'SEPT12', 'SEPT14', 'SEPT2',\n",
       "       'SEPT3', 'SEPT4', 'SEPT5', 'SEPT6', 'SEPT7', 'SEPT8', 'SEPT9'],\n",
       "      dtype='object', name='Gene')"
      ]
     },
     "execution_count": 16,
     "metadata": {},
     "output_type": "execute_result"
    }
   ],
   "source": [
    "train.index[idx_dt_test]"
   ]
  },
  {
   "cell_type": "markdown",
   "metadata": {},
   "source": [
    "Тут видно что порядок совпадает, так что просто возьмем названия из тренировочного датасета в том же порядке."
   ]
  },
  {
   "cell_type": "code",
   "execution_count": 17,
   "metadata": {},
   "outputs": [],
   "source": [
    "new_index = test.index.tolist()\n",
    "\n",
    "for i in idx_dt_test:\n",
    "    new_index[i] = train.index[i]\n",
    "\n",
    "test.index = new_index"
   ]
  },
  {
   "cell_type": "code",
   "execution_count": 18,
   "metadata": {},
   "outputs": [
    {
     "data": {
      "text/plain": [
       "Index([], dtype='object')"
      ]
     },
     "execution_count": 18,
     "metadata": {},
     "output_type": "execute_result"
    }
   ],
   "source": [
    "# еще раз проверим\n",
    "idx_dt_test = np.where(test.index.map(lambda x: isinstance(x, datetime)))[0]\n",
    "test.index[idx_dt_test]"
   ]
  },
  {
   "cell_type": "markdown",
   "metadata": {},
   "source": [
    "Теперь дат нет, отсортируем гены и еще раз проверим совпадение названий генов."
   ]
  },
  {
   "cell_type": "code",
   "execution_count": 19,
   "metadata": {},
   "outputs": [
    {
     "data": {
      "text/plain": [
       "True"
      ]
     },
     "execution_count": 19,
     "metadata": {},
     "output_type": "execute_result"
    }
   ],
   "source": [
    "train = train.sort_index(axis=0)\n",
    "test = test.sort_index(axis=0)\n",
    "is_equal = train.index == test.index\n",
    "np.all(is_equal)"
   ]
  },
  {
   "cell_type": "markdown",
   "metadata": {},
   "source": [
    "Теперь все ок. "
   ]
  },
  {
   "cell_type": "code",
   "execution_count": 20,
   "metadata": {},
   "outputs": [],
   "source": [
    "# транспонируем датасеты\n",
    "train = train.T\n",
    "test = test.T"
   ]
  },
  {
   "cell_type": "markdown",
   "metadata": {},
   "source": [
    "Получим данные по аннотации Response/No Response. Для первого датасета мы будем использовать данные из supplementary materials, таблица S1B. В этой работе есть более детальные данные по ответу на терапию (в том числе можно найти информацию о том, был ли ответ на терапию полным или нет), однако таких данных для второго датасета у нас нет, так что ограничимся аннотацией Response/No Response.\n",
    "\n",
    "Также можно заметить, что у пациента 27 была взята биопсия два раза, оба раза до терапии. В целом такое удвоение данных должно быть приемлемо в нашем анализе, так как опухоль может иметь различный уровень экспрессии генов в разных местах, что должно дать дополнительную информацию для модели."
   ]
  },
  {
   "cell_type": "code",
   "execution_count": 21,
   "metadata": {},
   "outputs": [
    {
     "data": {
      "text/html": [
       "<div>\n",
       "<style scoped>\n",
       "    .dataframe tbody tr th:only-of-type {\n",
       "        vertical-align: middle;\n",
       "    }\n",
       "\n",
       "    .dataframe tbody tr th {\n",
       "        vertical-align: top;\n",
       "    }\n",
       "\n",
       "    .dataframe thead th {\n",
       "        text-align: right;\n",
       "    }\n",
       "</style>\n",
       "<table border=\"1\" class=\"dataframe\">\n",
       "  <thead>\n",
       "    <tr style=\"text-align: right;\">\n",
       "      <th></th>\n",
       "      <th>BRCA2mutant?</th>\n",
       "      <th>IPRES signature</th>\n",
       "      <th>Response</th>\n",
       "      <th>Purity</th>\n",
       "      <th>Ploidy</th>\n",
       "      <th>AvgCov</th>\n",
       "      <th>PctCov15</th>\n",
       "      <th>TotalNonSyn</th>\n",
       "      <th>TotalNonSyn_Exp</th>\n",
       "      <th>TotalIndelNonSyn</th>\n",
       "      <th>...</th>\n",
       "      <th>A&gt;C</th>\n",
       "      <th>A&gt;T</th>\n",
       "      <th>C&gt;A</th>\n",
       "      <th>C&gt;G</th>\n",
       "      <th>A&gt;G.frac</th>\n",
       "      <th>C&gt;T.frac</th>\n",
       "      <th>A&gt;C.frac</th>\n",
       "      <th>A&gt;T.frac</th>\n",
       "      <th>C&gt;A.frac</th>\n",
       "      <th>C&gt;G.frac</th>\n",
       "    </tr>\n",
       "    <tr>\n",
       "      <th>Patient ID</th>\n",
       "      <th></th>\n",
       "      <th></th>\n",
       "      <th></th>\n",
       "      <th></th>\n",
       "      <th></th>\n",
       "      <th></th>\n",
       "      <th></th>\n",
       "      <th></th>\n",
       "      <th></th>\n",
       "      <th></th>\n",
       "      <th></th>\n",
       "      <th></th>\n",
       "      <th></th>\n",
       "      <th></th>\n",
       "      <th></th>\n",
       "      <th></th>\n",
       "      <th></th>\n",
       "      <th></th>\n",
       "      <th></th>\n",
       "      <th></th>\n",
       "      <th></th>\n",
       "    </tr>\n",
       "  </thead>\n",
       "  <tbody>\n",
       "    <tr>\n",
       "      <th>Pt1</th>\n",
       "      <td>1.0</td>\n",
       "      <td>Y</td>\n",
       "      <td>NR</td>\n",
       "      <td>0.25</td>\n",
       "      <td>5.4</td>\n",
       "      <td>126.61</td>\n",
       "      <td>95.5</td>\n",
       "      <td>1645.0</td>\n",
       "      <td>1394.0</td>\n",
       "      <td>0.0</td>\n",
       "      <td>...</td>\n",
       "      <td>97.0</td>\n",
       "      <td>233.0</td>\n",
       "      <td>176.0</td>\n",
       "      <td>54.0</td>\n",
       "      <td>0.034006</td>\n",
       "      <td>0.906854</td>\n",
       "      <td>0.010244</td>\n",
       "      <td>0.024607</td>\n",
       "      <td>0.018587</td>\n",
       "      <td>0.005703</td>\n",
       "    </tr>\n",
       "    <tr>\n",
       "      <th>Pt2</th>\n",
       "      <td>0.0</td>\n",
       "      <td>N</td>\n",
       "      <td>R</td>\n",
       "      <td>0.53</td>\n",
       "      <td>3.9</td>\n",
       "      <td>126.83</td>\n",
       "      <td>97.5</td>\n",
       "      <td>1943.0</td>\n",
       "      <td>1699.0</td>\n",
       "      <td>6.0</td>\n",
       "      <td>...</td>\n",
       "      <td>240.0</td>\n",
       "      <td>527.0</td>\n",
       "      <td>288.0</td>\n",
       "      <td>190.0</td>\n",
       "      <td>0.050542</td>\n",
       "      <td>0.861329</td>\n",
       "      <td>0.016989</td>\n",
       "      <td>0.037304</td>\n",
       "      <td>0.020386</td>\n",
       "      <td>0.013449</td>\n",
       "    </tr>\n",
       "    <tr>\n",
       "      <th>Pt3</th>\n",
       "      <td>1.0</td>\n",
       "      <td>na</td>\n",
       "      <td>R</td>\n",
       "      <td>0.79</td>\n",
       "      <td>2.2</td>\n",
       "      <td>91.44</td>\n",
       "      <td>96.6</td>\n",
       "      <td>1146.0</td>\n",
       "      <td>0.0</td>\n",
       "      <td>10.0</td>\n",
       "      <td>...</td>\n",
       "      <td>87.0</td>\n",
       "      <td>98.0</td>\n",
       "      <td>73.0</td>\n",
       "      <td>53.0</td>\n",
       "      <td>0.041279</td>\n",
       "      <td>0.901918</td>\n",
       "      <td>0.015890</td>\n",
       "      <td>0.017900</td>\n",
       "      <td>0.013333</td>\n",
       "      <td>0.009680</td>\n",
       "    </tr>\n",
       "    <tr>\n",
       "      <th>Pt4</th>\n",
       "      <td>1.0</td>\n",
       "      <td>N</td>\n",
       "      <td>R</td>\n",
       "      <td>0.74</td>\n",
       "      <td>3.7</td>\n",
       "      <td>127.77</td>\n",
       "      <td>96.0</td>\n",
       "      <td>3985.0</td>\n",
       "      <td>3438.0</td>\n",
       "      <td>19.0</td>\n",
       "      <td>...</td>\n",
       "      <td>508.0</td>\n",
       "      <td>1024.0</td>\n",
       "      <td>529.0</td>\n",
       "      <td>378.0</td>\n",
       "      <td>0.064075</td>\n",
       "      <td>0.842512</td>\n",
       "      <td>0.019456</td>\n",
       "      <td>0.039219</td>\n",
       "      <td>0.020260</td>\n",
       "      <td>0.014477</td>\n",
       "    </tr>\n",
       "    <tr>\n",
       "      <th>Pt5</th>\n",
       "      <td>0.0</td>\n",
       "      <td>N</td>\n",
       "      <td>R</td>\n",
       "      <td>0.89</td>\n",
       "      <td>3.4</td>\n",
       "      <td>102.26</td>\n",
       "      <td>95.8</td>\n",
       "      <td>316.0</td>\n",
       "      <td>276.0</td>\n",
       "      <td>2.0</td>\n",
       "      <td>...</td>\n",
       "      <td>46.0</td>\n",
       "      <td>61.0</td>\n",
       "      <td>60.0</td>\n",
       "      <td>31.0</td>\n",
       "      <td>0.061333</td>\n",
       "      <td>0.833067</td>\n",
       "      <td>0.024533</td>\n",
       "      <td>0.032533</td>\n",
       "      <td>0.032000</td>\n",
       "      <td>0.016533</td>\n",
       "    </tr>\n",
       "  </tbody>\n",
       "</table>\n",
       "<p>5 rows × 44 columns</p>\n",
       "</div>"
      ],
      "text/plain": [
       "            BRCA2mutant? IPRES signature Response  Purity  Ploidy  AvgCov  \\\n",
       "Patient ID                                                                  \n",
       "Pt1                  1.0               Y       NR    0.25     5.4  126.61   \n",
       "Pt2                  0.0               N        R    0.53     3.9  126.83   \n",
       "Pt3                  1.0              na        R    0.79     2.2   91.44   \n",
       "Pt4                  1.0               N        R    0.74     3.7  127.77   \n",
       "Pt5                  0.0               N        R    0.89     3.4  102.26   \n",
       "\n",
       "            PctCov15  TotalNonSyn  TotalNonSyn_Exp  TotalIndelNonSyn  ...  \\\n",
       "Patient ID                                                            ...   \n",
       "Pt1             95.5       1645.0           1394.0               0.0  ...   \n",
       "Pt2             97.5       1943.0           1699.0               6.0  ...   \n",
       "Pt3             96.6       1146.0              0.0              10.0  ...   \n",
       "Pt4             96.0       3985.0           3438.0              19.0  ...   \n",
       "Pt5             95.8        316.0            276.0               2.0  ...   \n",
       "\n",
       "              A>C     A>T    C>A    C>G  A>G.frac  C>T.frac  A>C.frac  \\\n",
       "Patient ID                                                              \n",
       "Pt1          97.0   233.0  176.0   54.0  0.034006  0.906854  0.010244   \n",
       "Pt2         240.0   527.0  288.0  190.0  0.050542  0.861329  0.016989   \n",
       "Pt3          87.0    98.0   73.0   53.0  0.041279  0.901918  0.015890   \n",
       "Pt4         508.0  1024.0  529.0  378.0  0.064075  0.842512  0.019456   \n",
       "Pt5          46.0    61.0   60.0   31.0  0.061333  0.833067  0.024533   \n",
       "\n",
       "            A>T.frac  C>A.frac  C>G.frac  \n",
       "Patient ID                                \n",
       "Pt1         0.024607  0.018587  0.005703  \n",
       "Pt2         0.037304  0.020386  0.013449  \n",
       "Pt3         0.017900  0.013333  0.009680  \n",
       "Pt4         0.039219  0.020260  0.014477  \n",
       "Pt5         0.032533  0.032000  0.016533  \n",
       "\n",
       "[5 rows x 44 columns]"
      ]
     },
     "execution_count": 21,
     "metadata": {},
     "output_type": "execute_result"
    }
   ],
   "source": [
    "# получаем все данные доступные из таблицы S1B\n",
    "annotation_data = pd.read_excel('data/r1/mmc1.xls', index_col=0, sheet_name='S1B', header=2)\n",
    "annotation_data.head()"
   ]
  },
  {
   "cell_type": "code",
   "execution_count": 22,
   "metadata": {},
   "outputs": [],
   "source": [
    "# уберем суффикс .baseline и -baseline из первого и второго датасета, \n",
    "# для второго датасета добавим суффикс t чтобы названия пациентов не совпадали\n",
    "train.index = train.index.str.split('.').str[0]\n",
    "test.index = test.index.str.split('-').str[0]\n",
    "test.index = test.index + 't'"
   ]
  },
  {
   "cell_type": "code",
   "execution_count": 65,
   "metadata": {},
   "outputs": [
    {
     "data": {
      "text/plain": [
       "Index(['Pt1', 'Pt2', 'Pt4', 'Pt5', 'Pt6', 'Pt7', 'Pt8', 'Pt9', 'Pt10', 'Pt12',\n",
       "       'Pt13', 'Pt14', 'Pt15', 'Pt19', 'Pt20', 'Pt22', 'Pt23', 'Pt25', 'Pt27A',\n",
       "       'Pt27B', 'Pt28', 'Pt29', 'Pt31', 'Pt32', 'Pt35', 'Pt37', 'Pt38'],\n",
       "      dtype='object')"
      ]
     },
     "execution_count": 65,
     "metadata": {},
     "output_type": "execute_result"
    }
   ],
   "source": [
    "train.index"
   ]
  },
  {
   "cell_type": "code",
   "execution_count": 64,
   "metadata": {},
   "outputs": [
    {
     "data": {
      "text/plain": [
       "Index(['Pt1t', 'Pt2t', 'Pt3t', 'Pt4t', 'Pt5t'], dtype='object')"
      ]
     },
     "execution_count": 64,
     "metadata": {},
     "output_type": "execute_result"
    }
   ],
   "source": [
    "test.index"
   ]
  },
  {
   "cell_type": "markdown",
   "metadata": {},
   "source": [
    "Теперь создадим аннотацию."
   ]
  },
  {
   "cell_type": "code",
   "execution_count": 27,
   "metadata": {},
   "outputs": [],
   "source": [
    "# Для тренировочного датасета\n",
    "label_map = {'NR': 0, 'R': 1}\n",
    "\n",
    "y_train = annotation_data.loc[train.index.str.strip('AB').tolist(), 'Response']\n",
    "\n",
    "y_train = y_train.map(label_map)"
   ]
  },
  {
   "cell_type": "markdown",
   "metadata": {},
   "source": [
    "Для тестового датасета берем аннотацию из статьи:\n",
    "\n",
    "in biopsy specimens from five patients responding (red, n = 2) or not responding (black, n = 3) to anti-PD-1 therapy\n",
    "\n",
    "<img src=\"img/1.png\">"
   ]
  },
  {
   "cell_type": "code",
   "execution_count": 28,
   "metadata": {},
   "outputs": [],
   "source": [
    "y_test = ['R', 'R', 'NR', 'NR', 'NR']\n",
    "y_test = np.vectorize(label_map.get)(y_test)"
   ]
  },
  {
   "cell_type": "markdown",
   "metadata": {},
   "source": [
    "И создадим объединенный датасет с данными по экспрессии генов, для анализа экспрессии из обоих исследований."
   ]
  },
  {
   "cell_type": "code",
   "execution_count": 29,
   "metadata": {},
   "outputs": [],
   "source": [
    "data = pd.concat([train, test])"
   ]
  },
  {
   "cell_type": "code",
   "execution_count": 30,
   "metadata": {},
   "outputs": [],
   "source": [
    "y_data = np.concatenate([y_train, y_test])"
   ]
  },
  {
   "cell_type": "markdown",
   "metadata": {},
   "source": [
    "# 2. Анализ экспрессии генов из обоих исследований\n",
    "\n",
    "В начале я попробовал найти дифференциально экспрессируемые гены между пациентами с ответом на терапию и без при помощи статистического теста Манна-Уитни и затем сделав FDR поправку на множественное сравнение"
   ]
  },
  {
   "cell_type": "code",
   "execution_count": 241,
   "metadata": {},
   "outputs": [],
   "source": [
    "genes_pvals = []\n",
    "\n",
    "for c in data.columns:\n",
    "    try:\n",
    "        pval = mannwhitneyu(data[c][y_data == 0], data[c][y_data == 1], alternative='two-sided')[1]\n",
    "        genes_pvals.append((c, pval))\n",
    "    except:\n",
    "        continue"
   ]
  },
  {
   "cell_type": "code",
   "execution_count": 265,
   "metadata": {},
   "outputs": [],
   "source": [
    "genes_pvals = pd.DataFrame(genes_pvals)"
   ]
  },
  {
   "cell_type": "code",
   "execution_count": 266,
   "metadata": {},
   "outputs": [
    {
     "data": {
      "text/plain": [
       "(array([], dtype=int64),)"
      ]
     },
     "execution_count": 266,
     "metadata": {},
     "output_type": "execute_result"
    }
   ],
   "source": [
    "hyp, ajpval = fdrcorrection(genes_pvals[1], alpha=0.1)\n",
    "np.where(hyp)"
   ]
  },
  {
   "cell_type": "markdown",
   "metadata": {},
   "source": [
    "Однако такой метод не выявил статистически значимых отличий в экспрессии. Тут дело в поправке на множественное ставнение, при таком большом количестве сравниваемых генов (мы сравниваем все экспрессируемые гены), дифференциально экспрессируемые гены могут отклоняться.\n",
    "\n",
    "После этого я хотел обратиться к тулу DeSeq2 для проведения анализа дифф экспрессии. Однако он не работает с FPKM данными по экспрессии, необходимо было проводить анализ исходных данных RNA-seq, однако такой возможности у меня не было из-за отсутствия достаточных вычислительных мощностей.\n",
    "\n",
    "Почитав первую статью, я увидел что они использовали p-val 0.25 для своих тестов. Кажется это слишком большое p значение, однако попробуем сделать также:"
   ]
  },
  {
   "cell_type": "code",
   "execution_count": 287,
   "metadata": {},
   "outputs": [
    {
     "data": {
      "text/html": [
       "<div>\n",
       "<style scoped>\n",
       "    .dataframe tbody tr th:only-of-type {\n",
       "        vertical-align: middle;\n",
       "    }\n",
       "\n",
       "    .dataframe tbody tr th {\n",
       "        vertical-align: top;\n",
       "    }\n",
       "\n",
       "    .dataframe thead th {\n",
       "        text-align: right;\n",
       "    }\n",
       "</style>\n",
       "<table border=\"1\" class=\"dataframe\">\n",
       "  <thead>\n",
       "    <tr style=\"text-align: right;\">\n",
       "      <th></th>\n",
       "      <th>gene</th>\n",
       "      <th>padj</th>\n",
       "    </tr>\n",
       "  </thead>\n",
       "  <tbody>\n",
       "    <tr>\n",
       "      <th>464</th>\n",
       "      <td>LOC101929532</td>\n",
       "      <td>0.218249</td>\n",
       "    </tr>\n",
       "    <tr>\n",
       "      <th>681</th>\n",
       "      <td>RNF152</td>\n",
       "      <td>0.218249</td>\n",
       "    </tr>\n",
       "    <tr>\n",
       "      <th>383</th>\n",
       "      <td>ITPRIPL1</td>\n",
       "      <td>0.218249</td>\n",
       "    </tr>\n",
       "    <tr>\n",
       "      <th>682</th>\n",
       "      <td>RNF43</td>\n",
       "      <td>0.218249</td>\n",
       "    </tr>\n",
       "    <tr>\n",
       "      <th>381</th>\n",
       "      <td>ITGBL1</td>\n",
       "      <td>0.218249</td>\n",
       "    </tr>\n",
       "    <tr>\n",
       "      <th>...</th>\n",
       "      <td>...</td>\n",
       "      <td>...</td>\n",
       "    </tr>\n",
       "    <tr>\n",
       "      <th>353</th>\n",
       "      <td>HOXA13</td>\n",
       "      <td>0.249692</td>\n",
       "    </tr>\n",
       "    <tr>\n",
       "      <th>70</th>\n",
       "      <td>BMP1</td>\n",
       "      <td>0.249692</td>\n",
       "    </tr>\n",
       "    <tr>\n",
       "      <th>349</th>\n",
       "      <td>HIST1H2AB</td>\n",
       "      <td>0.249692</td>\n",
       "    </tr>\n",
       "    <tr>\n",
       "      <th>399</th>\n",
       "      <td>KIAA1462</td>\n",
       "      <td>0.249692</td>\n",
       "    </tr>\n",
       "    <tr>\n",
       "      <th>247</th>\n",
       "      <td>FAM131C</td>\n",
       "      <td>0.249692</td>\n",
       "    </tr>\n",
       "  </tbody>\n",
       "</table>\n",
       "<p>929 rows × 2 columns</p>\n",
       "</div>"
      ],
      "text/plain": [
       "             gene      padj\n",
       "464  LOC101929532  0.218249\n",
       "681        RNF152  0.218249\n",
       "383      ITPRIPL1  0.218249\n",
       "682         RNF43  0.218249\n",
       "381        ITGBL1  0.218249\n",
       "..            ...       ...\n",
       "353        HOXA13  0.249692\n",
       "70           BMP1  0.249692\n",
       "349     HIST1H2AB  0.249692\n",
       "399      KIAA1462  0.249692\n",
       "247       FAM131C  0.249692\n",
       "\n",
       "[929 rows x 2 columns]"
      ]
     },
     "execution_count": 287,
     "metadata": {},
     "output_type": "execute_result"
    }
   ],
   "source": [
    "hyp, ajpval = fdrcorrection(genes_pvals[1], alpha=0.25)\n",
    "sign_gene_names = genes_pvals[0].values[np.where(hyp)[0]]\n",
    "sign_padj = ajpval[np.where(hyp)[0]]\n",
    "sign_genes = pd.DataFrame({'gene': sign_gene_names, 'padj': sign_padj})\n",
    "sign_genes = sign_genes.sort_values('padj')\n",
    "sign_genes"
   ]
  },
  {
   "cell_type": "markdown",
   "metadata": {},
   "source": [
    "Построим графики экспрессии по нескольким из самых значимых генов:"
   ]
  },
  {
   "cell_type": "code",
   "execution_count": 301,
   "metadata": {},
   "outputs": [
    {
     "data": {
      "image/png": "[encoded data removed]",
      "text/plain": [
       "<Figure size 1440x1440 with 25 Axes>"
      ]
     },
     "metadata": {
      "needs_background": "light"
     },
     "output_type": "display_data"
    }
   ],
   "source": [
    "fig = plt.figure(figsize=(20, 20))\n",
    "\n",
    "for i in range(25):\n",
    "    ax = fig.add_subplot(5, 5, i + 1)\n",
    "    sns.violinplot(x=y_data, y=data[sign_genes.gene.iloc[i]]).set_title(f'{sign_genes.gene.iloc[i]} p-adj: {sign_genes.padj.iloc[i]:.2f}' )\n",
    "\n",
    "plt.show()"
   ]
  },
  {
   "cell_type": "markdown",
   "metadata": {},
   "source": [
    "Видно что экспрессии у них действительно разные. Однако чтобы детальнее понять их роль в ответе на терапию нужно более детально изучать их функции."
   ]
  },
  {
   "cell_type": "markdown",
   "metadata": {},
   "source": [
    "Теперь попробуем провести PCA и определить какие фичи наиболее информативны. \n",
    "\n",
    "Для этого проведем PCA анализ, перемножим матрицы с исходными данными и результатами PCA, нормализуем полученный результат и умножим на важность компонент."
   ]
  },
  {
   "cell_type": "code",
   "execution_count": 113,
   "metadata": {},
   "outputs": [],
   "source": [
    "scaler = StandardScaler()\n",
    "X = scaler.fit_transform(data)\n",
    "\n",
    "pca = PCA().fit(X)\n",
    "X_pca = pca.transform(X)\n",
    "\n",
    "Z = np.zeros((X_pca.shape[0], X.shape[1] - X_pca.shape[1]))\n",
    "\n",
    "explained_variance_ratio = np.append(pca.explained_variance_ratio_, np.zeros((1, X.shape[1] - X_pca.shape[1])))\n",
    "\n",
    "X_pca = np.concatenate([X_pca, Z], axis=1)"
   ]
  },
  {
   "cell_type": "code",
   "execution_count": 116,
   "metadata": {},
   "outputs": [
    {
     "data": {
      "text/plain": [
       "(25268, 25268)"
      ]
     },
     "execution_count": 116,
     "metadata": {},
     "output_type": "execute_result"
    }
   ],
   "source": [
    "dot_matrix = np.dot(X.T, X_pca)\n",
    "dot_matrix.shape"
   ]
  },
  {
   "cell_type": "code",
   "execution_count": 117,
   "metadata": {},
   "outputs": [
    {
     "data": {
      "text/html": [
       "<div>\n",
       "<style scoped>\n",
       "    .dataframe tbody tr th:only-of-type {\n",
       "        vertical-align: middle;\n",
       "    }\n",
       "\n",
       "    .dataframe tbody tr th {\n",
       "        vertical-align: top;\n",
       "    }\n",
       "\n",
       "    .dataframe thead th {\n",
       "        text-align: right;\n",
       "    }\n",
       "</style>\n",
       "<table border=\"1\" class=\"dataframe\">\n",
       "  <thead>\n",
       "    <tr style=\"text-align: right;\">\n",
       "      <th></th>\n",
       "      <th>PC1</th>\n",
       "      <th>PC2</th>\n",
       "      <th>PC3</th>\n",
       "      <th>PC4</th>\n",
       "      <th>PC5</th>\n",
       "      <th>PC6</th>\n",
       "      <th>PC7</th>\n",
       "      <th>PC8</th>\n",
       "      <th>PC9</th>\n",
       "      <th>PC10</th>\n",
       "      <th>...</th>\n",
       "      <th>PC25259</th>\n",
       "      <th>PC25260</th>\n",
       "      <th>PC25261</th>\n",
       "      <th>PC25262</th>\n",
       "      <th>PC25263</th>\n",
       "      <th>PC25264</th>\n",
       "      <th>PC25265</th>\n",
       "      <th>PC25266</th>\n",
       "      <th>PC25267</th>\n",
       "      <th>PC25268</th>\n",
       "    </tr>\n",
       "  </thead>\n",
       "  <tbody>\n",
       "    <tr>\n",
       "      <th>A1BG</th>\n",
       "      <td>-73.819671</td>\n",
       "      <td>-286.784133</td>\n",
       "      <td>225.260994</td>\n",
       "      <td>222.547255</td>\n",
       "      <td>-138.780505</td>\n",
       "      <td>609.453121</td>\n",
       "      <td>-342.122105</td>\n",
       "      <td>500.260128</td>\n",
       "      <td>-227.721624</td>\n",
       "      <td>103.929977</td>\n",
       "      <td>...</td>\n",
       "      <td>0.0</td>\n",
       "      <td>0.0</td>\n",
       "      <td>0.0</td>\n",
       "      <td>0.0</td>\n",
       "      <td>0.0</td>\n",
       "      <td>0.0</td>\n",
       "      <td>0.0</td>\n",
       "      <td>0.0</td>\n",
       "      <td>0.0</td>\n",
       "      <td>0.0</td>\n",
       "    </tr>\n",
       "    <tr>\n",
       "      <th>A1BG-AS1</th>\n",
       "      <td>-270.962365</td>\n",
       "      <td>-137.255295</td>\n",
       "      <td>230.865365</td>\n",
       "      <td>191.127697</td>\n",
       "      <td>-188.088505</td>\n",
       "      <td>533.462506</td>\n",
       "      <td>-378.259470</td>\n",
       "      <td>490.954082</td>\n",
       "      <td>-148.072491</td>\n",
       "      <td>239.436004</td>\n",
       "      <td>...</td>\n",
       "      <td>0.0</td>\n",
       "      <td>0.0</td>\n",
       "      <td>0.0</td>\n",
       "      <td>0.0</td>\n",
       "      <td>0.0</td>\n",
       "      <td>0.0</td>\n",
       "      <td>0.0</td>\n",
       "      <td>0.0</td>\n",
       "      <td>0.0</td>\n",
       "      <td>0.0</td>\n",
       "    </tr>\n",
       "    <tr>\n",
       "      <th>A1CF</th>\n",
       "      <td>-275.588414</td>\n",
       "      <td>-241.113319</td>\n",
       "      <td>260.202594</td>\n",
       "      <td>197.715458</td>\n",
       "      <td>-78.338393</td>\n",
       "      <td>581.558741</td>\n",
       "      <td>-396.891013</td>\n",
       "      <td>505.646855</td>\n",
       "      <td>-224.626158</td>\n",
       "      <td>94.546934</td>\n",
       "      <td>...</td>\n",
       "      <td>0.0</td>\n",
       "      <td>0.0</td>\n",
       "      <td>0.0</td>\n",
       "      <td>0.0</td>\n",
       "      <td>0.0</td>\n",
       "      <td>0.0</td>\n",
       "      <td>0.0</td>\n",
       "      <td>0.0</td>\n",
       "      <td>0.0</td>\n",
       "      <td>0.0</td>\n",
       "    </tr>\n",
       "    <tr>\n",
       "      <th>A2M</th>\n",
       "      <td>-679.841781</td>\n",
       "      <td>479.233090</td>\n",
       "      <td>-137.116204</td>\n",
       "      <td>384.070268</td>\n",
       "      <td>-182.671955</td>\n",
       "      <td>144.557779</td>\n",
       "      <td>-346.586565</td>\n",
       "      <td>5.080022</td>\n",
       "      <td>139.825657</td>\n",
       "      <td>-49.978115</td>\n",
       "      <td>...</td>\n",
       "      <td>0.0</td>\n",
       "      <td>0.0</td>\n",
       "      <td>0.0</td>\n",
       "      <td>0.0</td>\n",
       "      <td>0.0</td>\n",
       "      <td>0.0</td>\n",
       "      <td>0.0</td>\n",
       "      <td>0.0</td>\n",
       "      <td>0.0</td>\n",
       "      <td>0.0</td>\n",
       "    </tr>\n",
       "    <tr>\n",
       "      <th>A2M-AS1</th>\n",
       "      <td>210.487106</td>\n",
       "      <td>189.239805</td>\n",
       "      <td>10.149041</td>\n",
       "      <td>431.749020</td>\n",
       "      <td>-522.877693</td>\n",
       "      <td>412.840874</td>\n",
       "      <td>-10.366217</td>\n",
       "      <td>187.748695</td>\n",
       "      <td>66.178033</td>\n",
       "      <td>79.586421</td>\n",
       "      <td>...</td>\n",
       "      <td>0.0</td>\n",
       "      <td>0.0</td>\n",
       "      <td>0.0</td>\n",
       "      <td>0.0</td>\n",
       "      <td>0.0</td>\n",
       "      <td>0.0</td>\n",
       "      <td>0.0</td>\n",
       "      <td>0.0</td>\n",
       "      <td>0.0</td>\n",
       "      <td>0.0</td>\n",
       "    </tr>\n",
       "    <tr>\n",
       "      <th>...</th>\n",
       "      <td>...</td>\n",
       "      <td>...</td>\n",
       "      <td>...</td>\n",
       "      <td>...</td>\n",
       "      <td>...</td>\n",
       "      <td>...</td>\n",
       "      <td>...</td>\n",
       "      <td>...</td>\n",
       "      <td>...</td>\n",
       "      <td>...</td>\n",
       "      <td>...</td>\n",
       "      <td>...</td>\n",
       "      <td>...</td>\n",
       "      <td>...</td>\n",
       "      <td>...</td>\n",
       "      <td>...</td>\n",
       "      <td>...</td>\n",
       "      <td>...</td>\n",
       "      <td>...</td>\n",
       "      <td>...</td>\n",
       "      <td>...</td>\n",
       "    </tr>\n",
       "    <tr>\n",
       "      <th>ZYG11A</th>\n",
       "      <td>137.888248</td>\n",
       "      <td>9.966376</td>\n",
       "      <td>21.592992</td>\n",
       "      <td>-13.592572</td>\n",
       "      <td>-71.397915</td>\n",
       "      <td>-4.292951</td>\n",
       "      <td>45.299373</td>\n",
       "      <td>-61.524686</td>\n",
       "      <td>100.891807</td>\n",
       "      <td>277.619069</td>\n",
       "      <td>...</td>\n",
       "      <td>0.0</td>\n",
       "      <td>0.0</td>\n",
       "      <td>0.0</td>\n",
       "      <td>0.0</td>\n",
       "      <td>0.0</td>\n",
       "      <td>0.0</td>\n",
       "      <td>0.0</td>\n",
       "      <td>0.0</td>\n",
       "      <td>0.0</td>\n",
       "      <td>0.0</td>\n",
       "    </tr>\n",
       "    <tr>\n",
       "      <th>ZYG11B</th>\n",
       "      <td>-984.736906</td>\n",
       "      <td>-149.087758</td>\n",
       "      <td>-144.460796</td>\n",
       "      <td>249.380565</td>\n",
       "      <td>397.020659</td>\n",
       "      <td>149.999592</td>\n",
       "      <td>152.908972</td>\n",
       "      <td>-94.286927</td>\n",
       "      <td>48.300253</td>\n",
       "      <td>188.491015</td>\n",
       "      <td>...</td>\n",
       "      <td>0.0</td>\n",
       "      <td>0.0</td>\n",
       "      <td>0.0</td>\n",
       "      <td>0.0</td>\n",
       "      <td>0.0</td>\n",
       "      <td>0.0</td>\n",
       "      <td>0.0</td>\n",
       "      <td>0.0</td>\n",
       "      <td>0.0</td>\n",
       "      <td>0.0</td>\n",
       "    </tr>\n",
       "    <tr>\n",
       "      <th>ZYX</th>\n",
       "      <td>236.225715</td>\n",
       "      <td>515.650802</td>\n",
       "      <td>-333.217528</td>\n",
       "      <td>-168.428135</td>\n",
       "      <td>-53.175663</td>\n",
       "      <td>-576.477339</td>\n",
       "      <td>-242.720428</td>\n",
       "      <td>447.819295</td>\n",
       "      <td>114.612541</td>\n",
       "      <td>25.171778</td>\n",
       "      <td>...</td>\n",
       "      <td>0.0</td>\n",
       "      <td>0.0</td>\n",
       "      <td>0.0</td>\n",
       "      <td>0.0</td>\n",
       "      <td>0.0</td>\n",
       "      <td>0.0</td>\n",
       "      <td>0.0</td>\n",
       "      <td>0.0</td>\n",
       "      <td>0.0</td>\n",
       "      <td>0.0</td>\n",
       "    </tr>\n",
       "    <tr>\n",
       "      <th>ZZEF1</th>\n",
       "      <td>-200.662915</td>\n",
       "      <td>91.023757</td>\n",
       "      <td>463.183965</td>\n",
       "      <td>167.244161</td>\n",
       "      <td>224.471578</td>\n",
       "      <td>-310.569444</td>\n",
       "      <td>-200.439919</td>\n",
       "      <td>-11.326785</td>\n",
       "      <td>360.864298</td>\n",
       "      <td>-311.179716</td>\n",
       "      <td>...</td>\n",
       "      <td>0.0</td>\n",
       "      <td>0.0</td>\n",
       "      <td>0.0</td>\n",
       "      <td>0.0</td>\n",
       "      <td>0.0</td>\n",
       "      <td>0.0</td>\n",
       "      <td>0.0</td>\n",
       "      <td>0.0</td>\n",
       "      <td>0.0</td>\n",
       "      <td>0.0</td>\n",
       "    </tr>\n",
       "    <tr>\n",
       "      <th>ZZZ3</th>\n",
       "      <td>-852.313728</td>\n",
       "      <td>-268.609324</td>\n",
       "      <td>122.140645</td>\n",
       "      <td>234.481640</td>\n",
       "      <td>-75.303487</td>\n",
       "      <td>-245.863352</td>\n",
       "      <td>43.614435</td>\n",
       "      <td>16.741291</td>\n",
       "      <td>155.774044</td>\n",
       "      <td>330.088807</td>\n",
       "      <td>...</td>\n",
       "      <td>0.0</td>\n",
       "      <td>0.0</td>\n",
       "      <td>0.0</td>\n",
       "      <td>0.0</td>\n",
       "      <td>0.0</td>\n",
       "      <td>0.0</td>\n",
       "      <td>0.0</td>\n",
       "      <td>0.0</td>\n",
       "      <td>0.0</td>\n",
       "      <td>0.0</td>\n",
       "    </tr>\n",
       "  </tbody>\n",
       "</table>\n",
       "<p>25268 rows × 25268 columns</p>\n",
       "</div>"
      ],
      "text/plain": [
       "                 PC1         PC2         PC3         PC4         PC5  \\\n",
       "A1BG      -73.819671 -286.784133  225.260994  222.547255 -138.780505   \n",
       "A1BG-AS1 -270.962365 -137.255295  230.865365  191.127697 -188.088505   \n",
       "A1CF     -275.588414 -241.113319  260.202594  197.715458  -78.338393   \n",
       "A2M      -679.841781  479.233090 -137.116204  384.070268 -182.671955   \n",
       "A2M-AS1   210.487106  189.239805   10.149041  431.749020 -522.877693   \n",
       "...              ...         ...         ...         ...         ...   \n",
       "ZYG11A    137.888248    9.966376   21.592992  -13.592572  -71.397915   \n",
       "ZYG11B   -984.736906 -149.087758 -144.460796  249.380565  397.020659   \n",
       "ZYX       236.225715  515.650802 -333.217528 -168.428135  -53.175663   \n",
       "ZZEF1    -200.662915   91.023757  463.183965  167.244161  224.471578   \n",
       "ZZZ3     -852.313728 -268.609324  122.140645  234.481640  -75.303487   \n",
       "\n",
       "                 PC6         PC7         PC8         PC9        PC10  ...  \\\n",
       "A1BG      609.453121 -342.122105  500.260128 -227.721624  103.929977  ...   \n",
       "A1BG-AS1  533.462506 -378.259470  490.954082 -148.072491  239.436004  ...   \n",
       "A1CF      581.558741 -396.891013  505.646855 -224.626158   94.546934  ...   \n",
       "A2M       144.557779 -346.586565    5.080022  139.825657  -49.978115  ...   \n",
       "A2M-AS1   412.840874  -10.366217  187.748695   66.178033   79.586421  ...   \n",
       "...              ...         ...         ...         ...         ...  ...   \n",
       "ZYG11A     -4.292951   45.299373  -61.524686  100.891807  277.619069  ...   \n",
       "ZYG11B    149.999592  152.908972  -94.286927   48.300253  188.491015  ...   \n",
       "ZYX      -576.477339 -242.720428  447.819295  114.612541   25.171778  ...   \n",
       "ZZEF1    -310.569444 -200.439919  -11.326785  360.864298 -311.179716  ...   \n",
       "ZZZ3     -245.863352   43.614435   16.741291  155.774044  330.088807  ...   \n",
       "\n",
       "          PC25259  PC25260  PC25261  PC25262  PC25263  PC25264  PC25265  \\\n",
       "A1BG          0.0      0.0      0.0      0.0      0.0      0.0      0.0   \n",
       "A1BG-AS1      0.0      0.0      0.0      0.0      0.0      0.0      0.0   \n",
       "A1CF          0.0      0.0      0.0      0.0      0.0      0.0      0.0   \n",
       "A2M           0.0      0.0      0.0      0.0      0.0      0.0      0.0   \n",
       "A2M-AS1       0.0      0.0      0.0      0.0      0.0      0.0      0.0   \n",
       "...           ...      ...      ...      ...      ...      ...      ...   \n",
       "ZYG11A        0.0      0.0      0.0      0.0      0.0      0.0      0.0   \n",
       "ZYG11B        0.0      0.0      0.0      0.0      0.0      0.0      0.0   \n",
       "ZYX           0.0      0.0      0.0      0.0      0.0      0.0      0.0   \n",
       "ZZEF1         0.0      0.0      0.0      0.0      0.0      0.0      0.0   \n",
       "ZZZ3          0.0      0.0      0.0      0.0      0.0      0.0      0.0   \n",
       "\n",
       "          PC25266  PC25267  PC25268  \n",
       "A1BG          0.0      0.0      0.0  \n",
       "A1BG-AS1      0.0      0.0      0.0  \n",
       "A1CF          0.0      0.0      0.0  \n",
       "A2M           0.0      0.0      0.0  \n",
       "A2M-AS1       0.0      0.0      0.0  \n",
       "...           ...      ...      ...  \n",
       "ZYG11A        0.0      0.0      0.0  \n",
       "ZYG11B        0.0      0.0      0.0  \n",
       "ZYX           0.0      0.0      0.0  \n",
       "ZZEF1         0.0      0.0      0.0  \n",
       "ZZZ3          0.0      0.0      0.0  \n",
       "\n",
       "[25268 rows x 25268 columns]"
      ]
     },
     "execution_count": 117,
     "metadata": {},
     "output_type": "execute_result"
    }
   ],
   "source": [
    "df_dot_matrix = pd.DataFrame(dot_matrix)\n",
    "df_dot_matrix.columns = [''.join(['PC', f'{i+1}']) for i in range(dot_matrix.shape[0])]\n",
    "df_dot_matrix.index = data.columns\n",
    "df_dot_matrix"
   ]
  },
  {
   "cell_type": "code",
   "execution_count": 118,
   "metadata": {},
   "outputs": [],
   "source": [
    "df_norm = (df_dot_matrix.copy() - df_dot_matrix.mean()) / df_dot_matrix.std()\n",
    "df_norm = df_norm.sort_values(list(df_norm.columns), ascending=False)\n",
    "\n",
    "df_abs = df_norm.copy().abs().set_index(df_norm.index)\n",
    "df_abs = df_abs.sort_values(by=list(df_abs.columns), ascending=False)"
   ]
  },
  {
   "cell_type": "code",
   "execution_count": 119,
   "metadata": {},
   "outputs": [],
   "source": [
    "df_byvar = df_abs.copy() * explained_variance_ratio\n",
    "df_byvar = df_byvar.sort_values(by=list(df_norm.columns), ascending=False)"
   ]
  },
  {
   "cell_type": "code",
   "execution_count": 120,
   "metadata": {},
   "outputs": [
    {
     "data": {
      "text/html": [
       "<div>\n",
       "<style scoped>\n",
       "    .dataframe tbody tr th:only-of-type {\n",
       "        vertical-align: middle;\n",
       "    }\n",
       "\n",
       "    .dataframe tbody tr th {\n",
       "        vertical-align: top;\n",
       "    }\n",
       "\n",
       "    .dataframe thead th {\n",
       "        text-align: right;\n",
       "    }\n",
       "</style>\n",
       "<table border=\"1\" class=\"dataframe\">\n",
       "  <thead>\n",
       "    <tr style=\"text-align: right;\">\n",
       "      <th></th>\n",
       "      <th>PC1</th>\n",
       "      <th>PC2</th>\n",
       "      <th>PC3</th>\n",
       "      <th>PC4</th>\n",
       "      <th>PC5</th>\n",
       "      <th>PC6</th>\n",
       "      <th>PC7</th>\n",
       "      <th>PC8</th>\n",
       "      <th>PC9</th>\n",
       "      <th>PC10</th>\n",
       "      <th>...</th>\n",
       "      <th>PC25259</th>\n",
       "      <th>PC25260</th>\n",
       "      <th>PC25261</th>\n",
       "      <th>PC25262</th>\n",
       "      <th>PC25263</th>\n",
       "      <th>PC25264</th>\n",
       "      <th>PC25265</th>\n",
       "      <th>PC25266</th>\n",
       "      <th>PC25267</th>\n",
       "      <th>PC25268</th>\n",
       "    </tr>\n",
       "  </thead>\n",
       "  <tbody>\n",
       "    <tr>\n",
       "      <th>TRAPPC5</th>\n",
       "      <td>0.342614</td>\n",
       "      <td>0.029312</td>\n",
       "      <td>0.014125</td>\n",
       "      <td>0.030525</td>\n",
       "      <td>0.026104</td>\n",
       "      <td>0.003320</td>\n",
       "      <td>0.027046</td>\n",
       "      <td>0.007003</td>\n",
       "      <td>0.013165</td>\n",
       "      <td>0.005476</td>\n",
       "      <td>...</td>\n",
       "      <td>NaN</td>\n",
       "      <td>NaN</td>\n",
       "      <td>NaN</td>\n",
       "      <td>NaN</td>\n",
       "      <td>NaN</td>\n",
       "      <td>NaN</td>\n",
       "      <td>NaN</td>\n",
       "      <td>NaN</td>\n",
       "      <td>NaN</td>\n",
       "      <td>NaN</td>\n",
       "    </tr>\n",
       "    <tr>\n",
       "      <th>CLPP</th>\n",
       "      <td>0.341464</td>\n",
       "      <td>0.036587</td>\n",
       "      <td>0.031317</td>\n",
       "      <td>0.045134</td>\n",
       "      <td>0.032202</td>\n",
       "      <td>0.006135</td>\n",
       "      <td>0.017107</td>\n",
       "      <td>0.011208</td>\n",
       "      <td>0.004713</td>\n",
       "      <td>0.000026</td>\n",
       "      <td>...</td>\n",
       "      <td>NaN</td>\n",
       "      <td>NaN</td>\n",
       "      <td>NaN</td>\n",
       "      <td>NaN</td>\n",
       "      <td>NaN</td>\n",
       "      <td>NaN</td>\n",
       "      <td>NaN</td>\n",
       "      <td>NaN</td>\n",
       "      <td>NaN</td>\n",
       "      <td>NaN</td>\n",
       "    </tr>\n",
       "    <tr>\n",
       "      <th>MON2</th>\n",
       "      <td>0.339891</td>\n",
       "      <td>0.011199</td>\n",
       "      <td>0.011025</td>\n",
       "      <td>0.008049</td>\n",
       "      <td>0.007013</td>\n",
       "      <td>0.005293</td>\n",
       "      <td>0.033180</td>\n",
       "      <td>0.031138</td>\n",
       "      <td>0.025046</td>\n",
       "      <td>0.011762</td>\n",
       "      <td>...</td>\n",
       "      <td>NaN</td>\n",
       "      <td>NaN</td>\n",
       "      <td>NaN</td>\n",
       "      <td>NaN</td>\n",
       "      <td>NaN</td>\n",
       "      <td>NaN</td>\n",
       "      <td>NaN</td>\n",
       "      <td>NaN</td>\n",
       "      <td>NaN</td>\n",
       "      <td>NaN</td>\n",
       "    </tr>\n",
       "    <tr>\n",
       "      <th>MRPS12</th>\n",
       "      <td>0.339243</td>\n",
       "      <td>0.042351</td>\n",
       "      <td>0.003466</td>\n",
       "      <td>0.038375</td>\n",
       "      <td>0.068369</td>\n",
       "      <td>0.013415</td>\n",
       "      <td>0.020125</td>\n",
       "      <td>0.002439</td>\n",
       "      <td>0.024833</td>\n",
       "      <td>0.013201</td>\n",
       "      <td>...</td>\n",
       "      <td>NaN</td>\n",
       "      <td>NaN</td>\n",
       "      <td>NaN</td>\n",
       "      <td>NaN</td>\n",
       "      <td>NaN</td>\n",
       "      <td>NaN</td>\n",
       "      <td>NaN</td>\n",
       "      <td>NaN</td>\n",
       "      <td>NaN</td>\n",
       "      <td>NaN</td>\n",
       "    </tr>\n",
       "    <tr>\n",
       "      <th>CLASRP</th>\n",
       "      <td>0.339069</td>\n",
       "      <td>0.013212</td>\n",
       "      <td>0.008690</td>\n",
       "      <td>0.026560</td>\n",
       "      <td>0.015121</td>\n",
       "      <td>0.009686</td>\n",
       "      <td>0.021570</td>\n",
       "      <td>0.008397</td>\n",
       "      <td>0.000599</td>\n",
       "      <td>0.019091</td>\n",
       "      <td>...</td>\n",
       "      <td>NaN</td>\n",
       "      <td>NaN</td>\n",
       "      <td>NaN</td>\n",
       "      <td>NaN</td>\n",
       "      <td>NaN</td>\n",
       "      <td>NaN</td>\n",
       "      <td>NaN</td>\n",
       "      <td>NaN</td>\n",
       "      <td>NaN</td>\n",
       "      <td>NaN</td>\n",
       "    </tr>\n",
       "    <tr>\n",
       "      <th>...</th>\n",
       "      <td>...</td>\n",
       "      <td>...</td>\n",
       "      <td>...</td>\n",
       "      <td>...</td>\n",
       "      <td>...</td>\n",
       "      <td>...</td>\n",
       "      <td>...</td>\n",
       "      <td>...</td>\n",
       "      <td>...</td>\n",
       "      <td>...</td>\n",
       "      <td>...</td>\n",
       "      <td>...</td>\n",
       "      <td>...</td>\n",
       "      <td>...</td>\n",
       "      <td>...</td>\n",
       "      <td>...</td>\n",
       "      <td>...</td>\n",
       "      <td>...</td>\n",
       "      <td>...</td>\n",
       "      <td>...</td>\n",
       "      <td>...</td>\n",
       "    </tr>\n",
       "    <tr>\n",
       "      <th>OR10J5</th>\n",
       "      <td>0.000029</td>\n",
       "      <td>0.026442</td>\n",
       "      <td>0.018525</td>\n",
       "      <td>0.052601</td>\n",
       "      <td>0.028005</td>\n",
       "      <td>0.063085</td>\n",
       "      <td>0.033684</td>\n",
       "      <td>0.055279</td>\n",
       "      <td>0.025077</td>\n",
       "      <td>0.053493</td>\n",
       "      <td>...</td>\n",
       "      <td>NaN</td>\n",
       "      <td>NaN</td>\n",
       "      <td>NaN</td>\n",
       "      <td>NaN</td>\n",
       "      <td>NaN</td>\n",
       "      <td>NaN</td>\n",
       "      <td>NaN</td>\n",
       "      <td>NaN</td>\n",
       "      <td>NaN</td>\n",
       "      <td>NaN</td>\n",
       "    </tr>\n",
       "    <tr>\n",
       "      <th>ALPK2</th>\n",
       "      <td>0.000029</td>\n",
       "      <td>0.076870</td>\n",
       "      <td>0.018946</td>\n",
       "      <td>0.123923</td>\n",
       "      <td>0.093424</td>\n",
       "      <td>0.039185</td>\n",
       "      <td>0.052458</td>\n",
       "      <td>0.052386</td>\n",
       "      <td>0.030711</td>\n",
       "      <td>0.065326</td>\n",
       "      <td>...</td>\n",
       "      <td>NaN</td>\n",
       "      <td>NaN</td>\n",
       "      <td>NaN</td>\n",
       "      <td>NaN</td>\n",
       "      <td>NaN</td>\n",
       "      <td>NaN</td>\n",
       "      <td>NaN</td>\n",
       "      <td>NaN</td>\n",
       "      <td>NaN</td>\n",
       "      <td>NaN</td>\n",
       "    </tr>\n",
       "    <tr>\n",
       "      <th>LAX1</th>\n",
       "      <td>0.000028</td>\n",
       "      <td>0.003551</td>\n",
       "      <td>0.042066</td>\n",
       "      <td>0.146884</td>\n",
       "      <td>0.054793</td>\n",
       "      <td>0.036462</td>\n",
       "      <td>0.052704</td>\n",
       "      <td>0.045856</td>\n",
       "      <td>0.032482</td>\n",
       "      <td>0.059293</td>\n",
       "      <td>...</td>\n",
       "      <td>NaN</td>\n",
       "      <td>NaN</td>\n",
       "      <td>NaN</td>\n",
       "      <td>NaN</td>\n",
       "      <td>NaN</td>\n",
       "      <td>NaN</td>\n",
       "      <td>NaN</td>\n",
       "      <td>NaN</td>\n",
       "      <td>NaN</td>\n",
       "      <td>NaN</td>\n",
       "    </tr>\n",
       "    <tr>\n",
       "      <th>CUX1</th>\n",
       "      <td>0.000004</td>\n",
       "      <td>0.024050</td>\n",
       "      <td>0.024035</td>\n",
       "      <td>0.010903</td>\n",
       "      <td>0.030961</td>\n",
       "      <td>0.009439</td>\n",
       "      <td>0.093414</td>\n",
       "      <td>0.062635</td>\n",
       "      <td>0.005792</td>\n",
       "      <td>0.024929</td>\n",
       "      <td>...</td>\n",
       "      <td>NaN</td>\n",
       "      <td>NaN</td>\n",
       "      <td>NaN</td>\n",
       "      <td>NaN</td>\n",
       "      <td>NaN</td>\n",
       "      <td>NaN</td>\n",
       "      <td>NaN</td>\n",
       "      <td>NaN</td>\n",
       "      <td>NaN</td>\n",
       "      <td>NaN</td>\n",
       "    </tr>\n",
       "    <tr>\n",
       "      <th>ENPP1</th>\n",
       "      <td>0.000004</td>\n",
       "      <td>0.043503</td>\n",
       "      <td>0.072570</td>\n",
       "      <td>0.051138</td>\n",
       "      <td>0.131264</td>\n",
       "      <td>0.018904</td>\n",
       "      <td>0.072308</td>\n",
       "      <td>0.026120</td>\n",
       "      <td>0.053247</td>\n",
       "      <td>0.074649</td>\n",
       "      <td>...</td>\n",
       "      <td>NaN</td>\n",
       "      <td>NaN</td>\n",
       "      <td>NaN</td>\n",
       "      <td>NaN</td>\n",
       "      <td>NaN</td>\n",
       "      <td>NaN</td>\n",
       "      <td>NaN</td>\n",
       "      <td>NaN</td>\n",
       "      <td>NaN</td>\n",
       "      <td>NaN</td>\n",
       "    </tr>\n",
       "  </tbody>\n",
       "</table>\n",
       "<p>25268 rows × 25268 columns</p>\n",
       "</div>"
      ],
      "text/plain": [
       "              PC1       PC2       PC3       PC4       PC5       PC6       PC7  \\\n",
       "TRAPPC5  0.342614  0.029312  0.014125  0.030525  0.026104  0.003320  0.027046   \n",
       "CLPP     0.341464  0.036587  0.031317  0.045134  0.032202  0.006135  0.017107   \n",
       "MON2     0.339891  0.011199  0.011025  0.008049  0.007013  0.005293  0.033180   \n",
       "MRPS12   0.339243  0.042351  0.003466  0.038375  0.068369  0.013415  0.020125   \n",
       "CLASRP   0.339069  0.013212  0.008690  0.026560  0.015121  0.009686  0.021570   \n",
       "...           ...       ...       ...       ...       ...       ...       ...   \n",
       "OR10J5   0.000029  0.026442  0.018525  0.052601  0.028005  0.063085  0.033684   \n",
       "ALPK2    0.000029  0.076870  0.018946  0.123923  0.093424  0.039185  0.052458   \n",
       "LAX1     0.000028  0.003551  0.042066  0.146884  0.054793  0.036462  0.052704   \n",
       "CUX1     0.000004  0.024050  0.024035  0.010903  0.030961  0.009439  0.093414   \n",
       "ENPP1    0.000004  0.043503  0.072570  0.051138  0.131264  0.018904  0.072308   \n",
       "\n",
       "              PC8       PC9      PC10  ...  PC25259  PC25260  PC25261  \\\n",
       "TRAPPC5  0.007003  0.013165  0.005476  ...      NaN      NaN      NaN   \n",
       "CLPP     0.011208  0.004713  0.000026  ...      NaN      NaN      NaN   \n",
       "MON2     0.031138  0.025046  0.011762  ...      NaN      NaN      NaN   \n",
       "MRPS12   0.002439  0.024833  0.013201  ...      NaN      NaN      NaN   \n",
       "CLASRP   0.008397  0.000599  0.019091  ...      NaN      NaN      NaN   \n",
       "...           ...       ...       ...  ...      ...      ...      ...   \n",
       "OR10J5   0.055279  0.025077  0.053493  ...      NaN      NaN      NaN   \n",
       "ALPK2    0.052386  0.030711  0.065326  ...      NaN      NaN      NaN   \n",
       "LAX1     0.045856  0.032482  0.059293  ...      NaN      NaN      NaN   \n",
       "CUX1     0.062635  0.005792  0.024929  ...      NaN      NaN      NaN   \n",
       "ENPP1    0.026120  0.053247  0.074649  ...      NaN      NaN      NaN   \n",
       "\n",
       "         PC25262  PC25263  PC25264  PC25265  PC25266  PC25267  PC25268  \n",
       "TRAPPC5      NaN      NaN      NaN      NaN      NaN      NaN      NaN  \n",
       "CLPP         NaN      NaN      NaN      NaN      NaN      NaN      NaN  \n",
       "MON2         NaN      NaN      NaN      NaN      NaN      NaN      NaN  \n",
       "MRPS12       NaN      NaN      NaN      NaN      NaN      NaN      NaN  \n",
       "CLASRP       NaN      NaN      NaN      NaN      NaN      NaN      NaN  \n",
       "...          ...      ...      ...      ...      ...      ...      ...  \n",
       "OR10J5       NaN      NaN      NaN      NaN      NaN      NaN      NaN  \n",
       "ALPK2        NaN      NaN      NaN      NaN      NaN      NaN      NaN  \n",
       "LAX1         NaN      NaN      NaN      NaN      NaN      NaN      NaN  \n",
       "CUX1         NaN      NaN      NaN      NaN      NaN      NaN      NaN  \n",
       "ENPP1        NaN      NaN      NaN      NaN      NaN      NaN      NaN  \n",
       "\n",
       "[25268 rows x 25268 columns]"
      ]
     },
     "execution_count": 120,
     "metadata": {},
     "output_type": "execute_result"
    }
   ],
   "source": [
    "df_byvar"
   ]
  },
  {
   "cell_type": "markdown",
   "metadata": {},
   "source": [
    "Теперь посмотрим сколько компонент описывает 95% данных."
   ]
  },
  {
   "cell_type": "code",
   "execution_count": 139,
   "metadata": {},
   "outputs": [
    {
     "data": {
      "text/plain": [
       "22"
      ]
     },
     "execution_count": 139,
     "metadata": {},
     "output_type": "execute_result"
    }
   ],
   "source": [
    "explained_variance_ratio_cumsum = np.cumsum(explained_variance_ratio)\n",
    "exp95 = np.argmax(explained_variance_ratio_cumsum > 0.95)\n",
    "exp95"
   ]
  },
  {
   "cell_type": "markdown",
   "metadata": {},
   "source": [
    "22 компоненты. Построим хитмап по 22 двум компонентам и топ 22 генам:"
   ]
  },
  {
   "cell_type": "code",
   "execution_count": 164,
   "metadata": {},
   "outputs": [
    {
     "data": {
      "image/png": "[encoded data removed]",
      "text/plain": [
       "<Figure size 1440x720 with 2 Axes>"
      ]
     },
     "metadata": {
      "needs_background": "light"
     },
     "output_type": "display_data"
    }
   ],
   "source": [
    "top_exp_df = df_byvar.iloc[0:exp95, 0:exp95]\n",
    "\n",
    "plt.figure(figsize=(20, 10))\n",
    "sns.heatmap(top_exp_df)\n",
    "plt.show()"
   ]
  },
  {
   "cell_type": "code",
   "execution_count": 168,
   "metadata": {},
   "outputs": [
    {
     "data": {
      "text/plain": [
       "(238,)"
      ]
     },
     "execution_count": 168,
     "metadata": {},
     "output_type": "execute_result"
    }
   ],
   "source": [
    "df_byvar['PC1'][df_byvar['PC1'] > 0.3].shape"
   ]
  },
  {
   "cell_type": "markdown",
   "metadata": {},
   "source": [
    "Вообще как можно видеть, достаточно высокую корреляцию с первой компонентой имеет большое количество генов. Далее при построении модели мы попробуем построить не только модели с использованием всего датасета, но и модели с использованием только топ генов по результатам PCA анализа."
   ]
  },
  {
   "cell_type": "markdown",
   "metadata": {},
   "source": [
    "# 3. Модель предсказания ответа на терапию\n",
    "\n",
    "План такой:\n",
    "\n",
    "1. Тренировать будем сделующие модели: knn, svm, Decision Tree, Naive Bayes, Random Forest, AdaBoost, XGBoost\n",
    "2. Проверить дизбаланс классов и при его наличии использовать методику оверсамплинга для его устранения\n",
    "3. Провести скейлинг данных\n",
    "4. При помощи grid search и кросс валидации подобрать оптимальные гипер-параметры для каждого из типов моделей\n",
    "5. Обучить модели\n",
    "6. Выбрать лучшую, протестировав их на тестовом датасете\n",
    "\n",
    "В начале обучение проведем для датасета с дублированием 27-го пациента, потом без.\n",
    "\n",
    "Начнем с проверки дизбаланса классов:"
   ]
  },
  {
   "cell_type": "code",
   "execution_count": 411,
   "metadata": {},
   "outputs": [
    {
     "data": {
      "text/plain": [
       "<AxesSubplot:>"
      ]
     },
     "execution_count": 411,
     "metadata": {},
     "output_type": "execute_result"
    },
    {
     "data": {
      "image/png": "[encoded data removed]",
      "text/plain": [
       "<Figure size 432x288 with 1 Axes>"
      ]
     },
     "metadata": {
      "needs_background": "light"
     },
     "output_type": "display_data"
    }
   ],
   "source": [
    "y_train.hist()"
   ]
  },
  {
   "cell_type": "markdown",
   "metadata": {},
   "source": [
    "Дизбаланс не такой большой, но мы попробуем оверсемплинг, может быть он улучшит результат.\n",
    "\n",
    "Для оверсемплинга будем использовать метод SMOTE, который делает оверсемплинг с использованием k ближайших соседей. \n",
    "\n",
    "Создадим объект для кроссвалидации."
   ]
  },
  {
   "cell_type": "code",
   "execution_count": 193,
   "metadata": {},
   "outputs": [],
   "source": [
    "skf = StratifiedKFold(n_splits=5,  random_state=42, shuffle=True)"
   ]
  },
  {
   "cell_type": "markdown",
   "metadata": {},
   "source": [
    "Для обучения каждой модели создадим пайплайн, в нем будут сделующие шаги:\n",
    "\n",
    "1. Оверсамплинг\n",
    "2. Скейлинг \n",
    "3. Модель\n",
    "\n",
    "Также перечислим параметры, которые будут перебираться grid search. Для оценки лучшей модели будем использовать roc_auc score."
   ]
  },
  {
   "cell_type": "code",
   "execution_count": 194,
   "metadata": {},
   "outputs": [],
   "source": [
    "# часть пайплайна, общая для всех моделей\n",
    "\n",
    "base_parameters = {'over__sampling_strategy':(0.9, 1), \n",
    "                   'over__k_neighbors':(3, 5, 10)}\n",
    "\n",
    "def create_base_pipeline(do_scale=True):\n",
    "    over = SMOTE(sampling_strategy=0.9, k_neighbors=3)\n",
    "    scale = StandardScaler()\n",
    "    steps = [('over', over), ('scale', scale)]\n",
    "    pipeline = Pipeline(steps=steps)\n",
    "    return pipeline\n",
    "\n",
    "# добавление модели к пайплайну\n",
    "def model_pipeline(model, params, do_scale=True):\n",
    "    pipeline = create_base_pipeline()\n",
    "    model_parameters = base_parameters.copy()\n",
    "    model_parameters.update(params)\n",
    "    pipeline.steps.append(['model', model])\n",
    "    return pipeline, model_parameters\n",
    "\n",
    "# поиск лучших параметров модели\n",
    "def find_best(model_name, model, params, x, y):\n",
    "    pipeline, parameters = model_pipeline(model, params)\n",
    "    clf = GridSearchCV(pipeline, parameters, scoring='roc_auc', cv=skf, n_jobs=-1)\n",
    "    _ = clf.fit(x, y)\n",
    "    print(f'{model_name} best parameters: {clf.best_params_}')"
   ]
  },
  {
   "cell_type": "code",
   "execution_count": 465,
   "metadata": {},
   "outputs": [
    {
     "name": "stdout",
     "output_type": "stream",
     "text": [
      "KNN best parameters: {'model__n_neighbors': 3, 'over__k_neighbors': 3, 'over__sampling_strategy': 1}\n",
      "SVM best parameters: {'model__degree': 2, 'model__kernel': 'rbf', 'over__k_neighbors': 3, 'over__sampling_strategy': 1}\n",
      "Decision Tree best parameters: {'model__criterion': 'gini', 'model__max_depth': 3, 'over__k_neighbors': 3, 'over__sampling_strategy': 0.9}\n",
      "Naive Bayes best parameters: {'over__k_neighbors': 3, 'over__sampling_strategy': 1}\n",
      "Random Forest best parameters: {'model__max_depth': 3, 'model__n_estimators': 100, 'over__k_neighbors': 3, 'over__sampling_strategy': 0.9}\n",
      "AdaBoost best parameters: {'model__n_estimators': 50, 'over__k_neighbors': 3, 'over__sampling_strategy': 0.9}\n",
      "XGBoost best parameters: {'model__max_depth': 3, 'model__n_estimators': 1000, 'over__k_neighbors': 3, 'over__sampling_strategy': 1}\n"
     ]
    }
   ],
   "source": [
    "import warnings\n",
    "warnings.filterwarnings('ignore')\n",
    "\n",
    "xgb.set_config(verbosity=0)\n",
    "\n",
    "# определим модели и перебираемые параметры\n",
    "models = {'KNN': (KNeighborsClassifier(), {'model__n_neighbors': (3, 5, 10, 15)}),\n",
    "          'SVM': (SVC(), \n",
    "                  {'model__kernel':('linear', 'poly', 'rbf'), \n",
    "                   'model__degree': (2, 3, 5),}),\n",
    "          'Decision Tree': (DecisionTreeClassifier(), \n",
    "                            {'model__criterion':('gini', 'entropy'), \n",
    "                             'model__max_depth': (3, 5, 7, 10)}),\n",
    "          'Naive Bayes': (GaussianNB(), {}),\n",
    "          'Random Forest': (RandomForestClassifier(), \n",
    "                            {'model__max_depth':(3, 5, 7, 10, None), \n",
    "                             'model__n_estimators': (100, 500, 700, 1000),}),\n",
    "          'AdaBoost': (AdaBoostClassifier(), \n",
    "                       {'model__n_estimators': (50, 100, 500, 700, 1000),}),\n",
    "          'XGBoost': (xgb.XGBClassifier(), \n",
    "                      {'model__max_depth': (3, 5, 7, 10, None),\n",
    "                       'model__n_estimators': (100, 500, 700, 1000)}),\n",
    "         }\n",
    "\n",
    "for k in models.keys():\n",
    "    find_best(k, models[k][0], models[k][1], train, y_train)"
   ]
  },
  {
   "cell_type": "code",
   "execution_count": 572,
   "metadata": {},
   "outputs": [
    {
     "name": "stdout",
     "output_type": "stream",
     "text": [
      "KNN\n",
      "Test ROC AUC for the KNN best model 1.00\n",
      "Test F1 for the KNN best model 0.67\n",
      "Test precision for the KNN best model 1.00\n",
      "Test recall for the KNN best model 0.50\n",
      "Test accuracy for the KNN best model 0.80\n",
      "[1 1 0 0 0]\n",
      "[1 0 0 0 0]\n",
      "[0.66666667 0.33333333 0.         0.         0.        ]\n",
      "\n",
      "SVM\n",
      "Test ROC AUC for the SVM best model 1.00\n",
      "Test F1 for the SVM best model 0.80\n",
      "Test precision for the SVM best model 0.67\n",
      "Test recall for the SVM best model 1.00\n",
      "Test accuracy for the SVM best model 0.80\n",
      "[1 1 0 0 0]\n",
      "[1 1 0 1 0]\n",
      "[0.64692564 0.641011   0.39910788 0.55099492 0.37414892]\n",
      "\n",
      "Decision Tree\n",
      "Test ROC AUC for the Decision Tree best model 1.00\n",
      "Test F1 for the Decision Tree best model 1.00\n",
      "Test precision for the Decision Tree best model 1.00\n",
      "Test recall for the Decision Tree best model 1.00\n",
      "Test accuracy for the Decision Tree best model 1.00\n",
      "[1 1 0 0 0]\n",
      "[1 1 0 0 0]\n",
      "[1. 1. 0. 0. 0.]\n",
      "\n",
      "Naive Bayes\n",
      "Test ROC AUC for the Naive Bayes best model 1.00\n",
      "Test F1 for the Naive Bayes best model 1.00\n",
      "Test precision for the Naive Bayes best model 1.00\n",
      "Test recall for the Naive Bayes best model 1.00\n",
      "Test accuracy for the Naive Bayes best model 1.00\n",
      "[1 1 0 0 0]\n",
      "[1 1 0 0 0]\n",
      "[1. 1. 0. 0. 0.]\n",
      "\n",
      "Random Forest\n",
      "Test ROC AUC for the Random Forest best model 1.00\n",
      "Test F1 for the Random Forest best model 1.00\n",
      "Test precision for the Random Forest best model 1.00\n",
      "Test recall for the Random Forest best model 1.00\n",
      "Test accuracy for the Random Forest best model 1.00\n",
      "[1 1 0 0 0]\n",
      "[1 1 0 0 0]\n",
      "[0.87 0.81 0.18 0.25 0.11]\n",
      "\n",
      "AdaBoost\n",
      "Test ROC AUC for the AdaBoost best model 1.00\n",
      "Test F1 for the AdaBoost best model 1.00\n",
      "Test precision for the AdaBoost best model 1.00\n",
      "Test recall for the AdaBoost best model 1.00\n",
      "Test accuracy for the AdaBoost best model 1.00\n",
      "[1 1 0 0 0]\n",
      "[1 1 0 0 0]\n",
      "[9.99999546e-01 9.99999546e-01 4.28447247e-07 2.30889772e-08\n",
      " 4.44733832e-09]\n",
      "\n",
      "XGBoost\n",
      "Test ROC AUC for the XGBoost best model 1.00\n",
      "Test F1 for the XGBoost best model 1.00\n",
      "Test precision for the XGBoost best model 1.00\n",
      "Test recall for the XGBoost best model 1.00\n",
      "Test accuracy for the XGBoost best model 1.00\n",
      "[1 1 0 0 0]\n",
      "[1 1 0 0 0]\n",
      "[0.9654857  0.9213971  0.07137158 0.06613389 0.03736409]\n",
      "\n"
     ]
    }
   ],
   "source": [
    "# создадим модели с лучшими параметрами, обучим их и проверим на тестовом датасете\n",
    "\n",
    "best_models = [('KNN', KNeighborsClassifier(n_neighbors = 3), SMOTE(sampling_strategy=1, k_neighbors=3)),\n",
    "               ('SVM', SVC(degree = 2, kernel = 'rbf', probability=True), SMOTE(sampling_strategy=1, k_neighbors=3)),\n",
    "               ('Decision Tree', DecisionTreeClassifier(criterion = 'gini', max_depth = 3), SMOTE(sampling_strategy=0.9, k_neighbors=3)),\n",
    "               ('Naive Bayes', GaussianNB(), SMOTE(sampling_strategy=1, k_neighbors=3)),\n",
    "               ('Random Forest', RandomForestClassifier(max_depth = 3, n_estimators = 100), SMOTE(sampling_strategy=0.9, k_neighbors=3)),\n",
    "               ('AdaBoost', AdaBoostClassifier(n_estimators = 50), SMOTE(sampling_strategy=0.9, k_neighbors=3)),\n",
    "               ('XGBoost', xgb.XGBClassifier(max_depth = 3, n_estimators = 1000), SMOTE(sampling_strategy=1, k_neighbors=3)),\n",
    "              ]\n",
    "\n",
    "trained_models = {}\n",
    "\n",
    "for bm in best_models:\n",
    "    name = bm[0]\n",
    "    best_model = bm[1]\n",
    "    best_over = bm[2]\n",
    "    scale = StandardScaler()\n",
    "    steps = [('over', best_over), ('scale', scale), ('model', best_model)]\n",
    "    pipeline = Pipeline(steps=steps)\n",
    "    _ = pipeline.fit(train, y_train)\n",
    "    \n",
    "    trained_models[name] = deepcopy(pipeline)\n",
    "    \n",
    "    test_scale = pipeline[-2].transform(test)\n",
    "    y_test_pred = pipeline[-1].predict(test_scale)\n",
    "    y_test_pred_proba = pipeline[-1].predict_proba(test_scale)[:,1]\n",
    "    \n",
    "    print(f'{name}')\n",
    "    print(f'Test ROC AUC for the {name} best model %.2f' % roc_auc_score(y_test, y_test_pred_proba))\n",
    "    print(f'Test F1 for the {name} best model %.2f' % f1_score(y_test, y_test_pred))\n",
    "    print(f'Test precision for the {name} best model %.2f' % precision_score(y_test, y_test_pred))\n",
    "    print(f'Test recall for the {name} best model %.2f' % recall_score(y_test, y_test_pred))\n",
    "    print(f'Test accuracy for the {name} best model %.2f' % accuracy_score(y_test, y_test_pred))\n",
    "    print(y_test)\n",
    "    print(y_test_pred)\n",
    "    print(y_test_pred_proba)\n",
    "    print()"
   ]
  },
  {
   "cell_type": "markdown",
   "metadata": {},
   "source": [
    "В целом все модели показали неплохой реузльтат, лучше всех отработали: XGBoost, AdaBoost, Random Forest, Naive Bayes, Decision Tree.\n",
    "\n",
    "Теперь посмотрим на важность фичей различных моделей, основанных на деревьях."
   ]
  },
  {
   "cell_type": "code",
   "execution_count": 573,
   "metadata": {},
   "outputs": [],
   "source": [
    "im = []\n",
    "for n in ['XGBoost', 'AdaBoost', 'Random Forest', 'Decision Tree']:\n",
    "    importances = trained_models['XGBoost'][-1].feature_importances_\n",
    "    im.append(importances)\n",
    "\n",
    "im = np.array(im)"
   ]
  },
  {
   "cell_type": "markdown",
   "metadata": {},
   "source": [
    "Просуммируем важности всех фичей из разных моделей, чтобы посмотреть какие часще всего являются наиболее важными в разных моделях"
   ]
  },
  {
   "cell_type": "code",
   "execution_count": 574,
   "metadata": {},
   "outputs": [
    {
     "data": {
      "image/png": "[encoded data removed]",
      "text/plain": [
       "<Figure size 720x720 with 1 Axes>"
      ]
     },
     "metadata": {
      "needs_background": "light"
     },
     "output_type": "display_data"
    }
   ],
   "source": [
    "importances = np.sum(im, axis=0)\n",
    "indices = np.argsort(importances)[::-1]\n",
    "\n",
    "plt.figure(figsize=(10, 10))\n",
    "\n",
    "plt.title('Важность признаков')\n",
    "plt.ylabel('Важность (полезность)')\n",
    "plt.xlabel('Название признака')\n",
    "\n",
    "plt.bar(range(30), importances[indices][0:30])\n",
    "plt.xticks(range(30), test.columns[indices][0:30], rotation=90)\n",
    "plt.show()"
   ]
  },
  {
   "cell_type": "markdown",
   "metadata": {},
   "source": [
    "Можно видеть что одним из наиболее важных генов для определения устойчивости к терапии является MAP2K5.\n",
    "\n",
    "Это ген кодирующий одну из метоген-активируемых протеинкиназ (MAPK) и в первой из статей указано, что \"(MAPK)-targeted therapy (MAPK inhibitor) induces similar signatures in melanoma, suggesting that a non-genomic form of MAPK inhibitor resistance mediates cross-resistance to anti-PD-1 therapy\". То есть важность этой фичи имеет смысл.\n",
    "\n",
    "Вторым по важности геном является FOXC2, кодирующий транскрипционный фактор, есть исследования связывающие его с разрастанием меланомы и сопротивляемости различным методам лечения меланомы: https://www.ncbi.nlm.nih.gov/pmc/articles/PMC6885364/\n",
    "\n",
    "Теперь построим модель, которая будет обучаться только на топ 300 генах отобранных во время PCA:"
   ]
  },
  {
   "cell_type": "code",
   "execution_count": 195,
   "metadata": {},
   "outputs": [
    {
     "name": "stdout",
     "output_type": "stream",
     "text": [
      "KNN best parameters: {'model__n_neighbors': 10, 'over__k_neighbors': 3, 'over__sampling_strategy': 1}\n",
      "SVM best parameters: {'model__degree': 5, 'model__kernel': 'poly', 'over__k_neighbors': 5, 'over__sampling_strategy': 1}\n",
      "Decision Tree best parameters: {'model__criterion': 'gini', 'model__max_depth': 10, 'over__k_neighbors': 5, 'over__sampling_strategy': 1}\n",
      "Naive Bayes best parameters: {'over__k_neighbors': 3, 'over__sampling_strategy': 1}\n",
      "Random Forest best parameters: {'model__max_depth': 10, 'model__n_estimators': 100, 'over__k_neighbors': 3, 'over__sampling_strategy': 1}\n",
      "AdaBoost best parameters: {'model__n_estimators': 500, 'over__k_neighbors': 3, 'over__sampling_strategy': 1}\n",
      "XGBoost best parameters: {'model__max_depth': None, 'model__n_estimators': 700, 'over__k_neighbors': 3, 'over__sampling_strategy': 1}\n"
     ]
    }
   ],
   "source": [
    "import warnings\n",
    "warnings.filterwarnings('ignore')\n",
    "\n",
    "xgb.set_config(verbosity=0)\n",
    "\n",
    "# определим модели и перебираемые параметры\n",
    "models = {'KNN': (KNeighborsClassifier(), {'model__n_neighbors': (3, 5, 10, 15)}),\n",
    "          'SVM': (SVC(), \n",
    "                  {'model__kernel':('linear', 'poly', 'rbf'), \n",
    "                   'model__degree': (2, 3, 5),}),\n",
    "          'Decision Tree': (DecisionTreeClassifier(), \n",
    "                            {'model__criterion':('gini', 'entropy'), \n",
    "                             'model__max_depth': (3, 5, 7, 10)}),\n",
    "          'Naive Bayes': (GaussianNB(), {}),\n",
    "          'Random Forest': (RandomForestClassifier(), \n",
    "                            {'model__max_depth':(3, 5, 7, 10, None), \n",
    "                             'model__n_estimators': (100, 500, 700, 1000),}),\n",
    "          'AdaBoost': (AdaBoostClassifier(), \n",
    "                       {'model__n_estimators': (50, 100, 500, 700, 1000),}),\n",
    "          'XGBoost': (xgb.XGBClassifier(), \n",
    "                      {'model__max_depth': (3, 5, 7, 10, None),\n",
    "                       'model__n_estimators': (100, 500, 700, 1000)}),\n",
    "         }\n",
    "\n",
    "for k in models.keys():\n",
    "    find_best(k, models[k][0], models[k][1], train[df_byvar.index[0:300]], y_train)"
   ]
  },
  {
   "cell_type": "code",
   "execution_count": 205,
   "metadata": {},
   "outputs": [
    {
     "name": "stdout",
     "output_type": "stream",
     "text": [
      "KNN\n",
      "Test ROC AUC for the KNN best model 0.42\n",
      "Test F1 for the KNN best model 0.00\n",
      "Test precision for the KNN best model 0.00\n",
      "Test recall for the KNN best model 0.00\n",
      "Test accuracy for the KNN best model 0.60\n",
      "[1 1 0 0 0]\n",
      "[0 0 0 0 0]\n",
      "[0.5 0.4 0.5 0.4 0.5]\n",
      "\n",
      "SVM\n",
      "Test ROC AUC for the SVM best model 0.00\n",
      "Test F1 for the SVM best model 0.57\n",
      "Test precision for the SVM best model 0.40\n",
      "Test recall for the SVM best model 1.00\n",
      "Test accuracy for the SVM best model 0.40\n",
      "[1 1 0 0 0]\n",
      "[1 1 1 1 1]\n",
      "[0.48983188 0.4901312  0.49317003 0.49125735 0.49069298]\n",
      "\n",
      "Decision Tree\n",
      "Test ROC AUC for the Decision Tree best model 0.58\n",
      "Test F1 for the Decision Tree best model 0.50\n",
      "Test precision for the Decision Tree best model 0.50\n",
      "Test recall for the Decision Tree best model 0.50\n",
      "Test accuracy for the Decision Tree best model 0.60\n",
      "[1 1 0 0 0]\n",
      "[0 1 0 1 0]\n",
      "[0. 1. 0. 1. 0.]\n",
      "\n",
      "Naive Bayes\n",
      "Test ROC AUC for the Naive Bayes best model 0.67\n",
      "Test F1 for the Naive Bayes best model 0.40\n",
      "Test precision for the Naive Bayes best model 0.33\n",
      "Test recall for the Naive Bayes best model 0.50\n",
      "Test accuracy for the Naive Bayes best model 0.40\n",
      "[1 1 0 0 0]\n",
      "[1 0 1 1 0]\n",
      "[1.00000000e+00 7.62817658e-04 9.83622604e-01 9.96794746e-01\n",
      " 1.51191455e-06]\n",
      "\n",
      "Random Forest\n",
      "Test ROC AUC for the Random Forest best model 1.00\n",
      "Test F1 for the Random Forest best model 1.00\n",
      "Test precision for the Random Forest best model 1.00\n",
      "Test recall for the Random Forest best model 1.00\n",
      "Test accuracy for the Random Forest best model 1.00\n",
      "[1 1 0 0 0]\n",
      "[1 1 0 0 0]\n",
      "[0.8  0.77 0.13 0.36 0.22]\n",
      "\n",
      "AdaBoost\n",
      "Test ROC AUC for the AdaBoost best model 1.00\n",
      "Test F1 for the AdaBoost best model 1.00\n",
      "Test precision for the AdaBoost best model 1.00\n",
      "Test recall for the AdaBoost best model 1.00\n",
      "Test accuracy for the AdaBoost best model 1.00\n",
      "[1 1 0 0 0]\n",
      "[1 1 0 0 0]\n",
      "[0.80468242 0.85064578 0.24602346 0.36854066 0.16008122]\n",
      "\n",
      "XGBoost\n",
      "Test ROC AUC for the XGBoost best model 1.00\n",
      "Test F1 for the XGBoost best model 1.00\n",
      "Test precision for the XGBoost best model 1.00\n",
      "Test recall for the XGBoost best model 1.00\n",
      "Test accuracy for the XGBoost best model 1.00\n",
      "[1 1 0 0 0]\n",
      "[1 1 0 0 0]\n",
      "[0.95226836 0.914166   0.02343891 0.42976382 0.08681519]\n",
      "\n"
     ]
    }
   ],
   "source": [
    "# создадим модели с лучшими параметрами, обучим их и проверим на тестовом датасете\n",
    "\n",
    "best_models = [('KNN', KNeighborsClassifier(n_neighbors = 10), SMOTE(sampling_strategy=1, k_neighbors=3)),\n",
    "               ('SVM', SVC(degree = 5, kernel = 'poly', probability=True), SMOTE(sampling_strategy=1, k_neighbors=5)),\n",
    "               ('Decision Tree', DecisionTreeClassifier(criterion = 'gini', max_depth = 10), SMOTE(sampling_strategy=1, k_neighbors=5)),\n",
    "               ('Naive Bayes', GaussianNB(), SMOTE(sampling_strategy=1, k_neighbors=3)),\n",
    "               ('Random Forest', RandomForestClassifier(max_depth = 10, n_estimators = 100), SMOTE(sampling_strategy=1, k_neighbors=3)),\n",
    "               ('AdaBoost', AdaBoostClassifier(n_estimators = 500), SMOTE(sampling_strategy=1, k_neighbors=3)),\n",
    "               ('XGBoost', xgb.XGBClassifier(max_depth = None, n_estimators = 700), SMOTE(sampling_strategy=1, k_neighbors=3)),\n",
    "              ]\n",
    "\n",
    "trained_models = {}\n",
    "\n",
    "for bm in best_models:\n",
    "    name = bm[0]\n",
    "    best_model = bm[1]\n",
    "    best_over = bm[2]\n",
    "    scale = StandardScaler()\n",
    "    steps = [('over', best_over), ('scale', scale), ('model', best_model)]\n",
    "    pipeline = Pipeline(steps=steps)\n",
    "    _ = pipeline.fit(train[df_byvar.index[0:300]], y_train)\n",
    "    \n",
    "    trained_models[name] = deepcopy(pipeline)\n",
    "    \n",
    "    test_scale = pipeline[-2].transform(test[df_byvar.index[0:300]])\n",
    "    y_test_pred = pipeline[-1].predict(test_scale)\n",
    "    y_test_pred_proba = pipeline[-1].predict_proba(test_scale)[:,1]\n",
    "    \n",
    "    print(f'{name}')\n",
    "    print(f'Test ROC AUC for the {name} best model %.2f' % roc_auc_score(y_test, y_test_pred_proba))\n",
    "    print(f'Test F1 for the {name} best model %.2f' % f1_score(y_test, y_test_pred))\n",
    "    print(f'Test precision for the {name} best model %.2f' % precision_score(y_test, y_test_pred))\n",
    "    print(f'Test recall for the {name} best model %.2f' % recall_score(y_test, y_test_pred))\n",
    "    print(f'Test accuracy for the {name} best model %.2f' % accuracy_score(y_test, y_test_pred))\n",
    "    print(y_test)\n",
    "    print(y_test_pred)\n",
    "    print(y_test_pred_proba)\n",
    "    print()"
   ]
  },
  {
   "cell_type": "markdown",
   "metadata": {},
   "source": [
    "Random Forest, XGBoost, AdaBoost по прежнему покзывают хороший результат. Проведем анализ важности признаков:"
   ]
  },
  {
   "cell_type": "code",
   "execution_count": 207,
   "metadata": {},
   "outputs": [
    {
     "data": {
      "image/png": "[encoded data removed]",
      "text/plain": [
       "<Figure size 720x720 with 1 Axes>"
      ]
     },
     "metadata": {
      "needs_background": "light"
     },
     "output_type": "display_data"
    }
   ],
   "source": [
    "im = []\n",
    "for n in ['XGBoost', 'AdaBoost', 'Random Forest']:\n",
    "    importances = trained_models['XGBoost'][-1].feature_importances_\n",
    "    im.append(importances)\n",
    "\n",
    "im = np.array(im)\n",
    "\n",
    "importances = np.sum(im, axis=0)\n",
    "indices = np.argsort(importances)[::-1]\n",
    "\n",
    "plt.figure(figsize=(10, 10))\n",
    "\n",
    "plt.title('Важность признаков')\n",
    "plt.ylabel('Важность (полезность)')\n",
    "plt.xlabel('Название признака')\n",
    "\n",
    "plt.bar(range(30), importances[indices][0:30])\n",
    "plt.xticks(range(30), test[df_byvar.index[0:300]].columns[indices][0:30], rotation=90)\n",
    "plt.show()"
   ]
  },
  {
   "cell_type": "markdown",
   "metadata": {},
   "source": [
    "Главный по важности GPS2 ген, он также связан с МАРК.\n",
    "\n",
    "Дальнейший анализ важности генов требует более детального рассмотрения. \n",
    "\n",
    "И еще пострим графики экспрессии наиболее важных генов исходя из предыдущего анализа."
   ]
  },
  {
   "cell_type": "code",
   "execution_count": 216,
   "metadata": {},
   "outputs": [
    {
     "data": {
      "text/plain": [
       "<AxesSubplot:ylabel='MAP2K5'>"
      ]
     },
     "execution_count": 216,
     "metadata": {},
     "output_type": "execute_result"
    },
    {
     "data": {
      "image/png": "[encoded data removed]",
      "text/plain": [
       "<Figure size 432x288 with 1 Axes>"
      ]
     },
     "metadata": {
      "needs_background": "light"
     },
     "output_type": "display_data"
    }
   ],
   "source": [
    "sns.violinplot(x=y_data, y=data['MAP2K5'])"
   ]
  },
  {
   "cell_type": "markdown",
   "metadata": {},
   "source": [
    "Очевидно, что уровень экспрессии гена MAP2K5 заметно ниже у пациентов без ответа на терапию.\n",
    "\n",
    "Также этот ген находится среди наиболее значимых по анализу экспрессии генов, проведенном ранее."
   ]
  },
  {
   "cell_type": "code",
   "execution_count": 218,
   "metadata": {},
   "outputs": [
    {
     "data": {
      "text/plain": [
       "<AxesSubplot:ylabel='FOXC2'>"
      ]
     },
     "execution_count": 218,
     "metadata": {},
     "output_type": "execute_result"
    },
    {
     "data": {
      "image/png": "[encoded data removed]",
      "text/plain": [
       "<Figure size 432x288 with 1 Axes>"
      ]
     },
     "metadata": {
      "needs_background": "light"
     },
     "output_type": "display_data"
    }
   ],
   "source": [
    "sns.violinplot(x=y_data, y=data['FOXC2'])"
   ]
  },
  {
   "cell_type": "markdown",
   "metadata": {},
   "source": [
    "Тут тоже разница заметна, хоть и не так сильно"
   ]
  },
  {
   "cell_type": "code",
   "execution_count": 224,
   "metadata": {},
   "outputs": [
    {
     "data": {
      "text/plain": [
       "<AxesSubplot:ylabel='GPS2'>"
      ]
     },
     "execution_count": 224,
     "metadata": {},
     "output_type": "execute_result"
    },
    {
     "data": {
      "image/png": "[encoded data removed]",
      "text/plain": [
       "<Figure size 432x288 with 1 Axes>"
      ]
     },
     "metadata": {
      "needs_background": "light"
     },
     "output_type": "display_data"
    }
   ],
   "source": [
    "sns.violinplot(x=y_data, y=data['GPS2'])"
   ]
  },
  {
   "cell_type": "code",
   "execution_count": 228,
   "metadata": {},
   "outputs": [
    {
     "data": {
      "text/plain": [
       "<AxesSubplot:ylabel='DMAP1'>"
      ]
     },
     "execution_count": 228,
     "metadata": {},
     "output_type": "execute_result"
    },
    {
     "data": {
      "image/png": "[encoded data removed]",
      "text/plain": [
       "<Figure size 432x288 with 1 Axes>"
      ]
     },
     "metadata": {
      "needs_background": "light"
     },
     "output_type": "display_data"
    }
   ],
   "source": [
    "sns.violinplot(x=y_data, y=data['DMAP1'])"
   ]
  },
  {
   "cell_type": "markdown",
   "metadata": {},
   "source": [
    "По остальным наиболее важным генам такой заметной разницы нет."
   ]
  },
  {
   "cell_type": "code",
   "execution_count": null,
   "metadata": {},
   "outputs": [],
   "source": []
  }
 ],
 "metadata": {
  "kernelspec": {
   "display_name": "Python 3",
   "language": "python",
   "name": "python3"
  },
  "language_info": {
   "codemirror_mode": {
    "name": "ipython",
    "version": 3
   },
   "file_extension": ".py",
   "mimetype": "text/x-python",
   "name": "python",
   "nbconvert_exporter": "python",
   "pygments_lexer": "ipython3",
   "version": "3.9.2"
  }
 },
 "nbformat": 4,
 "nbformat_minor": 1
}
